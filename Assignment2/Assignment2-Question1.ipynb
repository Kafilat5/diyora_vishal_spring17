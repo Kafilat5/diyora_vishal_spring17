{
 "cells": [
  {
   "cell_type": "markdown",
   "metadata": {},
   "source": [
    "# Question 1 Answers"
   ]
  },
  {
   "cell_type": "markdown",
   "metadata": {},
   "source": [
    "### Importing all the needed modules"
   ]
  },
  {
   "cell_type": "code",
   "execution_count": 1,
   "metadata": {
    "collapsed": false
   },
   "outputs": [],
   "source": [
    "#importing all the needed modules\n",
    "import nltk\n",
    "from nltk.corpus import gutenberg\n",
    "from collections import Counter\n",
    "import glob\n",
    "import string\n",
    "import matplotlib.pyplot as plt\n",
    "import csv\n"
   ]
  },
  {
   "cell_type": "markdown",
   "metadata": {},
   "source": [
    "### Reading each file in dir gutenberg and iterating through each file and saving data to data_all"
   ]
  },
  {
   "cell_type": "code",
   "execution_count": 6,
   "metadata": {
    "collapsed": false
   },
   "outputs": [],
   "source": [
    "data_all=[] #Storing Data in data_lower\n",
    "\n",
    "#iterating through each file in gutenberg\n",
    "for filename in glob.iglob('/Users/vishaldiyora/nltk_data/corpora/gutenberg/*.txt'): \n",
    "    with open(filename,'r' ,encoding='utf-8', errors='ignore') as data_file:\n",
    "        data=data_file.read() #reading each file and its data \n",
    "        datain_lower=data.lower() #lower case the data\n",
    "        data_split=datain_lower.split() #spliting the data into words\n",
    "    data_all+=data_split"
   ]
  },
  {
   "cell_type": "markdown",
   "metadata": {},
   "source": [
    "### Excluding punctuation and Counting frequency using counter"
   ]
  },
  {
   "cell_type": "code",
   "execution_count": 7,
   "metadata": {
    "collapsed": false
   },
   "outputs": [],
   "source": [
    "\n",
    "exclude = set(string.punctuation) #Removing Punctuation\n",
    "\n",
    "total_data=[x for x in data_all if x not in exclude] \n",
    "\n",
    "data_counter=Counter(total_data) #Counting Frequency of the datas"
   ]
  },
  {
   "cell_type": "markdown",
   "metadata": {},
   "source": [
    "### Sorting as per frequency and separting word and frequency to list"
   ]
  },
  {
   "cell_type": "code",
   "execution_count": 10,
   "metadata": {
    "collapsed": false
   },
   "outputs": [],
   "source": [
    "#defining the function for sorting\n",
    "def sorting_frequency():\n",
    "    return sorted(data_counter.items(), key=lambda pair: pair[1], reverse=True)\n",
    "x=sorting_frequency() # Sorting as per the frequecny\n",
    "word,frequency=zip(*x)   #separting word and frequency"
   ]
  },
  {
   "cell_type": "markdown",
   "metadata": {},
   "source": [
    "### Assigning Rank as per the length and Writing word frequecny rank to csv file"
   ]
  },
  {
   "cell_type": "code",
   "execution_count": 11,
   "metadata": {
    "collapsed": true
   },
   "outputs": [],
   "source": [
    "ranks=[]\n",
    "rank=1\n",
    "\n",
    "#Giving rank to the words frequecny\n",
    "for li in range(len(frequency)):\n",
    "    ranks.append(rank)\n",
    "    rank+=1;\n",
    "    \n",
    "\n",
    "#Writing word_rank_frequecny to csv file      \n",
    "with open('word_rank_frequecny_data.csv', 'w') as csvfile:\n",
    "    fieldnames = ['Word','Frequency','Rank']\n",
    "    writer = csv.DictWriter(csvfile, fieldnames=fieldnames)\n",
    "    writer.writeheader()\n",
    "    for (a,z,r) in zip(word,frequency,ranks):\n",
    "            writer.writerow({'Word':a,'Frequency': z,'Rank': r})"
   ]
  },
  {
   "cell_type": "markdown",
   "metadata": {},
   "source": [
    "### Reading  Rank Freq CSV file and ploting loglog graph of  <span style=\"color:blue\"> _Freq vs Rank_ </span> of words"
   ]
  },
  {
   "cell_type": "code",
   "execution_count": 15,
   "metadata": {
    "collapsed": false
   },
   "outputs": [
    {
     "data": {
      "image/png": "[encoded data removed]",
      "text/plain": [
       "<matplotlib.figure.Figure at 0x112921d68>"
      ]
     },
     "metadata": {},
     "output_type": "display_data"
    }
   ],
   "source": [
    "x_axis = []\n",
    "y_axis = []\n",
    "with open('word_rank_frequecny_data.csv','r') as csvfile:\n",
    "    csvreader = csv.reader(csvfile)\n",
    "    next(csvreader) #Skips first row of the csv file\n",
    "    \n",
    "    #iterating through rows of rank and frequency\n",
    "    for ech_row in csvreader: \n",
    "        x_axis.append(int(ech_row[2]))\n",
    "        y_axis.append(int(ech_row[1]))\n",
    "\n",
    "plt.loglog(x_axis,y_axis)\n",
    "plt.xlabel('Rank')\n",
    "plt.ylabel('Frequency')\n",
    "plt.title('Rank Frequency graph')\n",
    "plt.show()"
   ]
  },
  {
   "cell_type": "markdown",
   "metadata": {
    "collapsed": true
   },
   "source": [
    "### From the graph we can see that Zipf's law  is 20% of other 80% words in gutenberg and it is showing a straight line and it is satisfy and proved."
   ]
  },
  {
   "cell_type": "code",
   "execution_count": null,
   "metadata": {
    "collapsed": true
   },
   "outputs": [],
   "source": []
  }
 ],
 "metadata": {
  "anaconda-cloud": {},
  "kernelspec": {
   "display_name": "Python [conda root]",
   "language": "python",
   "name": "conda-root-py"
  },
  "language_info": {
   "codemirror_mode": {
    "name": "ipython",
    "version": 3
   },
   "file_extension": ".py",
   "mimetype": "text/x-python",
   "name": "python",
   "nbconvert_exporter": "python",
   "pygments_lexer": "ipython3",
   "version": "3.5.2"
  }
 },
 "nbformat": 4,
 "nbformat_minor": 1
}
