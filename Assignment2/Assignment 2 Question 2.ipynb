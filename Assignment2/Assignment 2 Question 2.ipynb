{
 "cells": [
  {
   "cell_type": "markdown",
   "metadata": {},
   "source": [
    "# Assignment 2 Question 2 Part 1"
   ]
  },
  {
   "cell_type": "markdown",
   "metadata": {},
   "source": [
    "### Importing necessary modules"
   ]
  },
  {
   "cell_type": "code",
   "execution_count": 8,
   "metadata": {
    "collapsed": true
   },
   "outputs": [],
   "source": [
    "import glob\n",
    "import os\n",
    "import shutil\n",
    "import csv\n",
    "import json"
   ]
  },
  {
   "cell_type": "code",
   "execution_count": 9,
   "metadata": {
    "collapsed": true
   },
   "outputs": [],
   "source": [
    "#Initalizing Lists \n",
    "country=[]\n",
    "state=[]\n",
    "city=[]\n",
    "zipcode=[]\n",
    "term=[]"
   ]
  },
  {
   "cell_type": "markdown",
   "metadata": {},
   "source": [
    "### Make Directory and Copy file in it.\n",
    "1. Using glob getting each .json file in Data Directory\n",
    "-  Iterating through each file \n",
    "-  Loading data of JSON file into data \n",
    "-  Getting country,state,city,zipcode and its respective term\n",
    "-  Iterating and making directory of each country,state,city,zipcode,term and copying file to its respective directory"
   ]
  },
  {
   "cell_type": "code",
   "execution_count": 10,
   "metadata": {
    "collapsed": false
   },
   "outputs": [],
   "source": [
    "\n",
    "#Loading each file from Data Directory with .json\n",
    "for filename in glob.iglob('Data/*.json'):\n",
    "    \n",
    "    with open(filename) as data_file:      #iterating through each file\n",
    "        \n",
    "        data = json.load(data_file)     # loading json into data \n",
    "        \n",
    "        country.append(data['location']['country']) #Getting country name \n",
    "        state.append(data['location']['state']) #Getting state name \n",
    "        city.append(data['location']['city']) #Getting city name \n",
    "        zipcode.append(data['location']['zip_code']) #Getting zipcode \n",
    "        term.append(data['term']) #Getting term \n",
    "        \n",
    "        for ab in set(country): #Iterating through each country\n",
    "            if data['location']['country'] == ab: \n",
    "                for bc in set(state):   #Iterating through each state\n",
    "                    if data['location']['state'] == bc:   \n",
    "                         for cd in set(city):  #Iterating through each city\n",
    "                                if data['location']['city'] ==  cd:\n",
    "                                    for zd in set(zipcode):    #Iterating each zip_code \n",
    "                                        if data['location']['zip_code'] == zd:\n",
    "                                            for tm in set(term):\n",
    "                                                if data['term'] == tm:\n",
    "                                                    #Making folder hierarchy by Country,State,City,ZipCode and Term \n",
    "                                                    os.makedirs('newDataOperations_Country/'+ ab+ '/'+ bc+'/'+cd+'/'+zd +'/'+tm, exist_ok=True)\n",
    "                                                    #Copying from data to respected Country,State,City,ZipCode and Term\n",
    "                                                    shutil.copy(data_file.name,'newDataOperations_Country/'+ab+'/' +bc+'/' +cd+'/'+zd+'/'+tm)\n",
    "                                            "
   ]
  },
  {
   "cell_type": "markdown",
   "metadata": {},
   "source": [
    "# Assignment 2 Question 2 Part 2"
   ]
  },
  {
   "cell_type": "code",
   "execution_count": 11,
   "metadata": {
    "collapsed": true
   },
   "outputs": [],
   "source": [
    "#Defining empty list of all the element to take from json file\n",
    "name=[]\n",
    "city=[]\n",
    "country=[]\n",
    "day_week=[]\n",
    "starting_hour =[]\n",
    "starting_minute=[]\n",
    "ending_hour=[]\n",
    "ending_minute=[]\n",
    "address=[]\n",
    "rating=[]"
   ]
  },
  {
   "cell_type": "markdown",
   "metadata": {},
   "source": [
    "### Getting the Restaurants Name,Address, City, Country, Start_Hour, Start_Minutes, End_Hour ,End_Minutes and Rating"
   ]
  },
  {
   "cell_type": "code",
   "execution_count": 13,
   "metadata": {
    "collapsed": false
   },
   "outputs": [],
   "source": [
    "#Iterate each file from Directory-- Data ending with .json\n",
    "for filename in glob.iglob('Data/*.json'):\n",
    "    \n",
    "    #iterating each file \n",
    "    with open(filename) as data_file:\n",
    "        \n",
    "        #loading data of json file \n",
    "        data = json.load(data_file)\n",
    "        if data['term'] == 'restaurants':  #term which is restaurants\n",
    "            \n",
    "            #Intializing the List\n",
    "            weekdays=[]\n",
    "            start_hour=[]\n",
    "            start_minute=[]\n",
    "            start_hour=[]\n",
    "            end_minute=[]\n",
    "            end_hour=[]\n",
    "            \n",
    "            \n",
    "            name.append(data['name'])  #Getting name of resturants\n",
    "            city.append(data['location']['city'])  #Getting city of resturants\n",
    "            country.append(data['location']['country'])  #Getting country of resturants\n",
    "            address.append(data['location']['address1']) #Getting address of resturants\n",
    "            rating.append(data['rating'])     #Getting rating of resturants\n",
    "            \n",
    "            if 'hours' in data:              #if data contains hours \n",
    "                for da in data['hours'][0]['open']: #iterating through eachdays of week \n",
    "                    weekdays.append(da['day']) \n",
    "                    start_hour.append(da['start'][:2]) #Getting start hour of that week days \n",
    "                    start_minute.append(da['start'][2:]) #Getting start minutes of that week days\n",
    "                    end_hour.append(da['end'][:2])      #End hour of that week days\n",
    "                    end_minute.append(da['end'][2:])    #End Minutes of that week days\n",
    "                    \n",
    "                day_week.append(weekdays) #Each days per week for each resturants\n",
    "                starting_hour.append(start_hour) \n",
    "                starting_minute.append(start_minute)\n",
    "                ending_hour.append(end_hour)\n",
    "                ending_minute.append(end_minute)\n",
    "            \n",
    "            else:                #if file doesnt contains hours so no data is found for that particular resturants\n",
    "                day_week.append('Not Updated')\n",
    "                starting_hour.append('Not Updated')\n",
    "                starting_minute.append('Not Updated')\n",
    "                ending_hour.append('Not Updated')\n",
    "                ending_minute.append('Not Updated')"
   ]
  },
  {
   "cell_type": "markdown",
   "metadata": {},
   "source": [
    "### Saving the resturants data to resturants.csv "
   ]
  },
  {
   "cell_type": "code",
   "execution_count": 14,
   "metadata": {
    "collapsed": true
   },
   "outputs": [],
   "source": [
    "#open the resturants file as write mode\n",
    "with open('resturants.csv', 'w') as csvfile:\n",
    "    \n",
    "    #Defining the field names\n",
    "    fieldnames = ['Name','Address', 'City','CountryCode','Weekdays','Start_Hours','Start_Minutes','End_Hour','End_Minutes','Rating']\n",
    "    #writing fieldnames to file\n",
    "    writer = csv.DictWriter(csvfile, fieldnames=fieldnames)\n",
    "\n",
    "    writer.writeheader()\n",
    "    #iterating with each value at same time\n",
    "    for (a,b,j,i,w,u,x,y,z,r) in zip(name,address,city,country,day_week,starting_hour,starting_minute,ending_hour,ending_minute,rating):\n",
    "        if w == 'Not Updated': #if time(weekdays) is empty  it dont need to iterate to weekdays so\n",
    "            writer.writerow({'Name': a,'Address':b, 'City': j, 'CountryCode':i, 'Weekdays':w , 'Start_Hours':u, 'Start_Minutes':x,'End_Hour':y, 'End_Minutes':z,'Rating':r})\n",
    "            continue   \n",
    "        for (ji,ij,bb,cc,dd) in zip(w,u,x,y,z):\n",
    "            writer.writerow({'Name': a, 'Address':b,'City': j, 'CountryCode':i, 'Weekdays':ji , 'Start_Hours':ij, 'Start_Minutes':bb,'End_Hour':cc, 'End_Minutes':dd,'Rating':r})\n"
   ]
  },
  {
   "cell_type": "code",
   "execution_count": null,
   "metadata": {
    "collapsed": true
   },
   "outputs": [],
   "source": [
    "### Using pandas just showing the structure and data of the file."
   ]
  },
  {
   "cell_type": "code",
   "execution_count": 16,
   "metadata": {
    "collapsed": false
   },
   "outputs": [
    {
     "data": {
      "text/html": [
       "<div>\n",
       "<table border=\"1\" class=\"dataframe\">\n",
       "  <thead>\n",
       "    <tr style=\"text-align: right;\">\n",
       "      <th></th>\n",
       "      <th>Name</th>\n",
       "      <th>Address</th>\n",
       "      <th>City</th>\n",
       "      <th>CountryCode</th>\n",
       "      <th>Weekdays</th>\n",
       "      <th>Start_Hours</th>\n",
       "      <th>Start_Minutes</th>\n",
       "      <th>End_Hour</th>\n",
       "      <th>End_Minutes</th>\n",
       "      <th>Rating</th>\n",
       "    </tr>\n",
       "  </thead>\n",
       "  <tbody>\n",
       "    <tr>\n",
       "      <th>0</th>\n",
       "      <td>10 Greek Street</td>\n",
       "      <td>10 Greek Street</td>\n",
       "      <td>London</td>\n",
       "      <td>GB</td>\n",
       "      <td>0</td>\n",
       "      <td>12</td>\n",
       "      <td>00</td>\n",
       "      <td>23</td>\n",
       "      <td>30</td>\n",
       "      <td>4.5</td>\n",
       "    </tr>\n",
       "    <tr>\n",
       "      <th>1</th>\n",
       "      <td>10 Greek Street</td>\n",
       "      <td>10 Greek Street</td>\n",
       "      <td>London</td>\n",
       "      <td>GB</td>\n",
       "      <td>1</td>\n",
       "      <td>12</td>\n",
       "      <td>00</td>\n",
       "      <td>23</td>\n",
       "      <td>30</td>\n",
       "      <td>4.5</td>\n",
       "    </tr>\n",
       "    <tr>\n",
       "      <th>2</th>\n",
       "      <td>10 Greek Street</td>\n",
       "      <td>10 Greek Street</td>\n",
       "      <td>London</td>\n",
       "      <td>GB</td>\n",
       "      <td>2</td>\n",
       "      <td>12</td>\n",
       "      <td>00</td>\n",
       "      <td>23</td>\n",
       "      <td>30</td>\n",
       "      <td>4.5</td>\n",
       "    </tr>\n",
       "    <tr>\n",
       "      <th>3</th>\n",
       "      <td>10 Greek Street</td>\n",
       "      <td>10 Greek Street</td>\n",
       "      <td>London</td>\n",
       "      <td>GB</td>\n",
       "      <td>3</td>\n",
       "      <td>12</td>\n",
       "      <td>00</td>\n",
       "      <td>23</td>\n",
       "      <td>30</td>\n",
       "      <td>4.5</td>\n",
       "    </tr>\n",
       "    <tr>\n",
       "      <th>4</th>\n",
       "      <td>10 Greek Street</td>\n",
       "      <td>10 Greek Street</td>\n",
       "      <td>London</td>\n",
       "      <td>GB</td>\n",
       "      <td>4</td>\n",
       "      <td>12</td>\n",
       "      <td>00</td>\n",
       "      <td>23</td>\n",
       "      <td>30</td>\n",
       "      <td>4.5</td>\n",
       "    </tr>\n",
       "  </tbody>\n",
       "</table>\n",
       "</div>"
      ],
      "text/plain": [
       "              Name          Address    City CountryCode Weekdays Start_Hours  \\\n",
       "0  10 Greek Street  10 Greek Street  London          GB        0          12   \n",
       "1  10 Greek Street  10 Greek Street  London          GB        1          12   \n",
       "2  10 Greek Street  10 Greek Street  London          GB        2          12   \n",
       "3  10 Greek Street  10 Greek Street  London          GB        3          12   \n",
       "4  10 Greek Street  10 Greek Street  London          GB        4          12   \n",
       "\n",
       "  Start_Minutes End_Hour End_Minutes  Rating  \n",
       "0            00       23          30     4.5  \n",
       "1            00       23          30     4.5  \n",
       "2            00       23          30     4.5  \n",
       "3            00       23          30     4.5  \n",
       "4            00       23          30     4.5  "
      ]
     },
     "execution_count": 16,
     "metadata": {},
     "output_type": "execute_result"
    }
   ],
   "source": [
    "import pandas as pd\n",
    "df=pd.read_csv('resturants.csv')\n",
    "df.head()"
   ]
  },
  {
   "cell_type": "code",
   "execution_count": null,
   "metadata": {
    "collapsed": true
   },
   "outputs": [],
   "source": []
  }
 ],
 "metadata": {
  "kernelspec": {
   "display_name": "Python [conda root]",
   "language": "python",
   "name": "conda-root-py"
  },
  "language_info": {
   "codemirror_mode": {
    "name": "ipython",
    "version": 3
   },
   "file_extension": ".py",
   "mimetype": "text/x-python",
   "name": "python",
   "nbconvert_exporter": "python",
   "pygments_lexer": "ipython3",
   "version": "3.5.2"
  }
 },
 "nbformat": 4,
 "nbformat_minor": 1
}
