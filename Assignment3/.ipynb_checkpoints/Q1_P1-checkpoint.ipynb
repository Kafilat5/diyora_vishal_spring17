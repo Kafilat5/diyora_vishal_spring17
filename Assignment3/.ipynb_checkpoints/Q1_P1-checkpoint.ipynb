{
 "cells": [
  {
   "cell_type": "code",
   "execution_count": 89,
   "metadata": {
    "collapsed": true
   },
   "outputs": [],
   "source": [
    "import pandas as pd\n",
    "import calendar\n",
    "import csv"
   ]
  },
  {
   "cell_type": "code",
   "execution_count": null,
   "metadata": {
    "collapsed": false
   },
   "outputs": [],
   "source": []
  },
  {
   "cell_type": "code",
   "execution_count": 92,
   "metadata": {
    "collapsed": false
   },
   "outputs": [],
   "source": [
    "#Read file from csv\n",
    "vehicle= pd.read_csv(\"vehicle_collisions.csv\")\n",
    "with open('Q1_P1.csv','w') as csvfile:\n",
    "    fieldnames = ['MONTH','MANHATTAN','NYC','PERCENTAGE']\n",
    "    writer = csv.DictWriter(csvfile, fieldnames=fieldnames)\n",
    "    writer.writeheader()\n",
    "    for a in range(1,13):\n",
    "        year=vehicle[(vehicle['BOROUGH'] ==\"MANHATTAN\") & (vehicle['DATE'].apply(lambda x:x.split(\"/\")[2]) == \"16\") ]\n",
    "        nyc=((vehicle['DATE'].apply(lambda x:x.split(\"/\")[2]) == \"16\") & (vehicle['DATE'].apply(lambda x:x.split(\"/\")[0]) == str(a))).sum()\n",
    "        manhattan_acc=(year['DATE'].apply(lambda x:x.split(\"/\")[0]) == str(a)).sum()\n",
    "        percentage=manhattan_acc/nyc\n",
    "#         print(percentage.round(8),nyc,manhattan_acc,calendar.month_name[int(a)][:3])\n",
    "        writer.writerow({'MONTH':calendar.month_name[int(a)][:3],'MANHATTAN':manhattan_acc,'NYC':nyc,'PERCENTAGE':percentage.round(8)})\n"
   ]
  },
  {
   "cell_type": "code",
   "execution_count": null,
   "metadata": {
    "collapsed": true
   },
   "outputs": [],
   "source": []
  }
 ],
 "metadata": {
  "anaconda-cloud": {},
  "kernelspec": {
   "display_name": "Python [conda root]",
   "language": "python",
   "name": "conda-root-py"
  },
  "language_info": {
   "codemirror_mode": {
    "name": "ipython",
    "version": 3
   },
   "file_extension": ".py",
   "mimetype": "text/x-python",
   "name": "python",
   "nbconvert_exporter": "python",
   "pygments_lexer": "ipython3",
   "version": "3.5.2"
  }
 },
 "nbformat": 4,
 "nbformat_minor": 1
}
