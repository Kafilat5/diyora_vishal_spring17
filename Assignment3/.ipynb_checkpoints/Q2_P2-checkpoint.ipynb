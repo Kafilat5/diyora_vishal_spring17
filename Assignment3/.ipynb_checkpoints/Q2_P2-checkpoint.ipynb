{
 "cells": [
  {
   "cell_type": "code",
   "execution_count": 129,
   "metadata": {
    "collapsed": false
   },
   "outputs": [],
   "source": [
    "import pandas as pd\n",
    "import numpy as np\n",
    "import re"
   ]
  },
  {
   "cell_type": "code",
   "execution_count": null,
   "metadata": {
    "collapsed": true
   },
   "outputs": [],
   "source": [
    "#Loading the file clean it by Year type\n",
    "employee=pd.read_csv('employee_compensation.csv')\n",
    "employee_calendar=employee[employee['Year Type'] == 'Calendar']\n",
    "\n",
    "#Make Employee Identifier sorted and making it as index So it is easy to compare with the other index\n",
    "employee_sort=employee_calendar.sort_values(by='Employee Identifier')\n",
    "employee_sort.set_index('Employee Identifier',inplace=True)"
   ]
  },
  {
   "cell_type": "code",
   "execution_count": 130,
   "metadata": {
    "collapsed": false
   },
   "outputs": [],
   "source": [
    "#sum of of Salaries and Overtime same employee identifier and removing the duplicate \n",
    "employee_salary=employee_calendar.groupby(['Employee Identifier']).agg({'Salaries': np.sum,'Overtime': np.sum})\n",
    "\n",
    "#People with more than 5% overtime of the salaries\n",
    "employee_time=employee_salary[employee_salary['Overtime']/employee_salary['Salaries']>0.05]\n",
    "\n",
    "#Comparing index with the index of the calendar year type and putting it in dataframe\n",
    "employee_clean=employee_sort[employee_sort.index.isin(employee_time.index)]\n"
   ]
  },
  {
   "cell_type": "code",
   "execution_count": 136,
   "metadata": {
    "collapsed": false
   },
   "outputs": [],
   "source": [
    "#Groupby the Job Family name using the data frame got in above steps\n",
    "employee_calendar1= employee_clean.groupby('Job Family').agg({'Total Benefits': np.average,'Total Compensation':np.average})"
   ]
  },
  {
   "cell_type": "code",
   "execution_count": 137,
   "metadata": {
    "collapsed": false
   },
   "outputs": [],
   "source": [
    "#Calculating percentage of total benefits to total compensation\n",
    "employee_calendar1['Percentage']=employee_calendar1['Total Benefits']/employee_calendar1['Total Compensation']"
   ]
  },
  {
   "cell_type": "code",
   "execution_count": 140,
   "metadata": {
    "collapsed": false
   },
   "outputs": [
    {
     "data": {
      "text/html": [
       "<div>\n",
       "<table border=\"1\" class=\"dataframe\">\n",
       "  <thead>\n",
       "    <tr style=\"text-align: right;\">\n",
       "      <th></th>\n",
       "      <th>Total Compensation</th>\n",
       "      <th>Total Benefits</th>\n",
       "      <th>Percentage</th>\n",
       "    </tr>\n",
       "    <tr>\n",
       "      <th>Job Family</th>\n",
       "      <th></th>\n",
       "      <th></th>\n",
       "      <th></th>\n",
       "    </tr>\n",
       "  </thead>\n",
       "  <tbody>\n",
       "    <tr>\n",
       "      <th>Administrative-DPW/PUC</th>\n",
       "      <td>98251.100000</td>\n",
       "      <td>22702.660000</td>\n",
       "      <td>0.231068</td>\n",
       "    </tr>\n",
       "    <tr>\n",
       "      <th>Administrative-Labor &amp; Trades</th>\n",
       "      <td>179801.153902</td>\n",
       "      <td>39960.122195</td>\n",
       "      <td>0.222246</td>\n",
       "    </tr>\n",
       "    <tr>\n",
       "      <th>Agriculture &amp; Horticulture</th>\n",
       "      <td>96610.100945</td>\n",
       "      <td>28653.835033</td>\n",
       "      <td>0.296593</td>\n",
       "    </tr>\n",
       "    <tr>\n",
       "      <th>Airport Operation</th>\n",
       "      <td>120980.472816</td>\n",
       "      <td>33539.641336</td>\n",
       "      <td>0.277232</td>\n",
       "    </tr>\n",
       "    <tr>\n",
       "      <th>Appraisal &amp; Taxation</th>\n",
       "      <td>39426.810000</td>\n",
       "      <td>10583.050000</td>\n",
       "      <td>0.268423</td>\n",
       "    </tr>\n",
       "  </tbody>\n",
       "</table>\n",
       "</div>"
      ],
      "text/plain": [
       "                               Total Compensation  Total Benefits  Percentage\n",
       "Job Family                                                                   \n",
       "Administrative-DPW/PUC               98251.100000    22702.660000    0.231068\n",
       "Administrative-Labor & Trades       179801.153902    39960.122195    0.222246\n",
       "Agriculture & Horticulture           96610.100945    28653.835033    0.296593\n",
       "Airport Operation                   120980.472816    33539.641336    0.277232\n",
       "Appraisal & Taxation                 39426.810000    10583.050000    0.268423"
      ]
     },
     "execution_count": 140,
     "metadata": {},
     "output_type": "execute_result"
    }
   ],
   "source": [
    "employee_calendar1.to_csv('Q2_P2.csv')\n",
    "employee_calendar1.head()"
   ]
  },
  {
   "cell_type": "code",
   "execution_count": null,
   "metadata": {
    "collapsed": true
   },
   "outputs": [],
   "source": []
  }
 ],
 "metadata": {
  "anaconda-cloud": {},
  "kernelspec": {
   "display_name": "Python [conda root]",
   "language": "python",
   "name": "conda-root-py"
  },
  "language_info": {
   "codemirror_mode": {
    "name": "ipython",
    "version": 3
   },
   "file_extension": ".py",
   "mimetype": "text/x-python",
   "name": "python",
   "nbconvert_exporter": "python",
   "pygments_lexer": "ipython3",
   "version": "3.5.2"
  }
 },
 "nbformat": 4,
 "nbformat_minor": 1
}
