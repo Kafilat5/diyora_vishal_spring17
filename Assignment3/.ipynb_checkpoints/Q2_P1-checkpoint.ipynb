{
 "cells": [
  {
   "cell_type": "code",
   "execution_count": 2,
   "metadata": {
    "collapsed": true
   },
   "outputs": [],
   "source": [
    "import pandas as pd\n",
    "import numpy as np\n",
    "import csv"
   ]
  },
  {
   "cell_type": "code",
   "execution_count": 6,
   "metadata": {
    "collapsed": false
   },
   "outputs": [
    {
     "data": {
      "text/html": [
       "<div>\n",
       "<table border=\"1\" class=\"dataframe\">\n",
       "  <thead>\n",
       "    <tr style=\"text-align: right;\">\n",
       "      <th></th>\n",
       "      <th></th>\n",
       "      <th>Total Compensation</th>\n",
       "    </tr>\n",
       "    <tr>\n",
       "      <th>Organization Group</th>\n",
       "      <th>Department</th>\n",
       "      <th></th>\n",
       "    </tr>\n",
       "  </thead>\n",
       "  <tbody>\n",
       "    <tr>\n",
       "      <th>Community Health</th>\n",
       "      <th>Public Health</th>\n",
       "      <td>96190.190140</td>\n",
       "    </tr>\n",
       "    <tr>\n",
       "      <th rowspan=\"4\" valign=\"top\">Culture &amp; Recreation</th>\n",
       "      <th>Law Library</th>\n",
       "      <td>188424.362222</td>\n",
       "    </tr>\n",
       "    <tr>\n",
       "      <th>Academy of Sciences</th>\n",
       "      <td>107319.727692</td>\n",
       "    </tr>\n",
       "    <tr>\n",
       "      <th>Arts Commission</th>\n",
       "      <td>94339.597388</td>\n",
       "    </tr>\n",
       "    <tr>\n",
       "      <th>War Memorial</th>\n",
       "      <td>76250.068022</td>\n",
       "    </tr>\n",
       "  </tbody>\n",
       "</table>\n",
       "</div>"
      ],
      "text/plain": [
       "                                          Total Compensation\n",
       "Organization Group   Department                             \n",
       "Community Health     Public Health              96190.190140\n",
       "Culture & Recreation Law Library               188424.362222\n",
       "                     Academy of Sciences       107319.727692\n",
       "                     Arts Commission            94339.597388\n",
       "                     War Memorial               76250.068022"
      ]
     },
     "execution_count": 6,
     "metadata": {},
     "output_type": "execute_result"
    }
   ],
   "source": [
    "employee=pd.read_csv('employee_compensation.csv')\n",
    "employee_group=employee.groupby(['Organization Group','Department']).agg({'Total Compensation': np.average})\n",
    "employee_sort= employee_group['Total Compensation'].groupby(level=0, group_keys=False)\n",
    "res = employee_sort.apply(lambda x: x.sort_values(ascending=False))\n",
    "abc=res.to_frame()\n",
    "abc.to_csv('Q2_P1.csv')\n",
    "abc.head()"
   ]
  },
  {
   "cell_type": "code",
   "execution_count": null,
   "metadata": {
    "collapsed": true
   },
   "outputs": [],
   "source": []
  }
 ],
 "metadata": {
  "anaconda-cloud": {},
  "kernelspec": {
   "display_name": "Python [conda root]",
   "language": "python",
   "name": "conda-root-py"
  },
  "language_info": {
   "codemirror_mode": {
    "name": "ipython",
    "version": 3
   },
   "file_extension": ".py",
   "mimetype": "text/x-python",
   "name": "python",
   "nbconvert_exporter": "python",
   "pygments_lexer": "ipython3",
   "version": "3.5.2"
  }
 },
 "nbformat": 4,
 "nbformat_minor": 1
}
