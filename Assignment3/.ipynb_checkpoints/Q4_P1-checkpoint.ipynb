{
 "cells": [
  {
   "cell_type": "code",
   "execution_count": 189,
   "metadata": {
    "collapsed": false
   },
   "outputs": [],
   "source": [
    "import csv\n",
    "import pandas as pd\n",
    "import re\n"
   ]
  },
  {
   "cell_type": "code",
   "execution_count": 188,
   "metadata": {
    "collapsed": false
   },
   "outputs": [],
   "source": [
    "movie= pd.read_csv('movies_awards.csv',encoding ='latin1')\n"
   ]
  },
  {
   "cell_type": "code",
   "execution_count": 190,
   "metadata": {
    "collapsed": false
   },
   "outputs": [],
   "source": [
    "awards=pd.DataFrame(columns=[\"Awards\",\"Awards_Won\",\"Awards_Nominated\",\"Prime_Awards_Nominated\",\"Oscar_Awards_Nominated\",\"Golden_Globe_Awards_Nominated\",\"BAFTA_Awards_Nominated\",\"Prime_Awards_won\",\"Oscar_Awards_won\",\"Golden_Globe_Awards_won\",\"BAFTA_Awards_won\"])\n",
    "awards['Awards'] = movie['Awards'].dropna()\n",
    "# awards.set_index('Awards',inplace=True)\n"
   ]
  },
  {
   "cell_type": "code",
   "execution_count": 194,
   "metadata": {
    "collapsed": false
   },
   "outputs": [],
   "source": [
    "#Getting digits from the awards column\n",
    "\n",
    "awards['Awards_Won']=movie['Awards'].apply(lambda x:(re.findall(r\"(\\d+) win\",str(x))))\n",
    "awards['Awards_Nominated']=movie['Awards'].apply(lambda x:(re.findall(r\"(\\d+) nomination\",str( x))))\n",
    "awards['Prime_Awards_Nominated']=movie['Awards'].apply(lambda x:(re.findall(r\"Nominated for (\\d+) Primetime Emmy\",str( x))))\n",
    "awards['Prime_Awards_won']=movie['Awards'].apply(lambda x:(re.findall(r\"Won (\\d+) Primetime Emmy\",str( x))))\n",
    "awards['Oscar_Awards_Nominated']=movie['Awards'].apply(lambda x:(re.findall(r\"Nominated for (\\d+) Oscar\",str( x))))\n",
    "awards['Oscar_Awards_won']=movie['Awards'].apply(lambda x:(re.findall(r\"Won (\\d+) Oscar\",str( x))))\n",
    "awards['Golden_Globe_Awards_Nominated']=movie['Awards'].apply(lambda x:(re.findall(r\"Nominated for (\\d+) Golden Globe\",str( x))))\n",
    "awards['Golden_Globe_Awards_won']=movie['Awards'].apply(lambda x:(re.findall(r\"Won (\\d+) Golden Globe\",str( x))))\n",
    "awards['BAFTA_Awards_Nominated']=movie['Awards'].apply(lambda x:(re.findall(r\"Nominated for (\\d+) BAFTA\",str( x))))\n",
    "awards['BAFTA_Awards_won']=movie['Awards'].apply(lambda x:(re.findall(r\"Won for (\\d+) BAFTA\",str( x))))\n",
    "\n",
    "# Removing all the list and fill empty list with zero\n",
    "#First column is awards name so skip first column and converting all to int\n",
    "firstline=True\n",
    "for a in awards.columns:\n",
    "    if firstline:\n",
    "        firstline=False \n",
    "        continue\n",
    "    awards[a]=(awards[a].apply(lambda x :0 if len(x)==0 else \"\".join(x))).astype(int)\n",
    "    \n",
    "    \n",
    "# awards['Awards_Won']=awards['Awards_Won'].apply(lambda x :0 if len(x)==0 else\"\".join(x))\n",
    "# awards['Awards_Nominated']=awards['Awards_Nominated'].apply(lambda x :0 if len(x)==0 else\"\".join(x))\n",
    "# awards['Prime_Awards_Nominated']=awards['Prime_Awards_Nominated'].apply(lambda x :0 if len(x)==0 else\"\".join(x))\n",
    "# awards['Prime_Awards_won']=awards['Prime_Awards_won'].apply(lambda x :0 if len(x)==0 else\"\".join(x))\n",
    "# awards['Oscar_Awards_Nominated']=awards['Oscar_Awards_Nominated'].apply(lambda x :0 if len(x)==0 else\"\".join(x))\n",
    "# awards['Oscar_Awards_won']=awards['Oscar_Awards_won'].apply(lambda x :0 if len(x)==0 else\"\".join(x))\n",
    "# awards['Golden_Globe_Awards_Nominated']=awards['Golden_Globe_Awards_Nominated'].apply(lambda x :0 if len(x)==0 else\"\".join(x))\n",
    "# awards['Golden_Globe_Awards_won']=awards['Golden_Globe_Awards_won'].apply(lambda x :0 if len(x)==0 else\"\".join(x))\n",
    "# awards['BAFTA_Awards_Nominated']=awards['BAFTA_Awards_Nominated'].apply(lambda x :0 if len(x)==0 else\"\".join(x))\n",
    "# awards['BAFTA_Awards_won']=awards['BAFTA_Awards_won'].apply(lambda x :0 if len(x)==0 else\"\".join(x))\n",
    "\n",
    "#Summation of all the won and Nomination\n",
    "awards['Awards_Won'] = awards['Awards_Won']+ awards['Prime_Awards_won'] + awards['Oscar_Awards_won'] +awards['Golden_Globe_Awards_won'] + awards['BAFTA_Awards_won']\n",
    "awards['Awards_Nominated'] = awards['Awards_Nominated']+ awards['Prime_Awards_Nominated'] + awards['Oscar_Awards_Nominated'] +awards['Golden_Globe_Awards_Nominated'] + awards['BAFTA_Awards_Nominated']\n"
   ]
  },
  {
   "cell_type": "code",
   "execution_count": 196,
   "metadata": {
    "collapsed": false
   },
   "outputs": [],
   "source": [
    "awards.reset_index('Awards',inplace=True,drop=True)\n"
   ]
  },
  {
   "cell_type": "code",
   "execution_count": 198,
   "metadata": {
    "collapsed": false
   },
   "outputs": [
    {
     "ename": "FileNotFoundError",
     "evalue": "[Errno 2] No such file or directory: 'CSV/Q4_P1.csv'",
     "output_type": "error",
     "traceback": [
      "\u001b[0;31m---------------------------------------------------------------------------\u001b[0m",
      "\u001b[0;31mFileNotFoundError\u001b[0m                         Traceback (most recent call last)",
      "\u001b[0;32m<ipython-input-198-43249f126d98>\u001b[0m in \u001b[0;36m<module>\u001b[0;34m()\u001b[0m\n\u001b[0;32m----> 1\u001b[0;31m \u001b[0mawards\u001b[0m\u001b[0;34m.\u001b[0m\u001b[0mto_csv\u001b[0m\u001b[0;34m(\u001b[0m\u001b[0;34m'CSV/Q4_P1.csv'\u001b[0m\u001b[0;34m)\u001b[0m\u001b[0;34m\u001b[0m\u001b[0m\n\u001b[0m",
      "\u001b[0;32m/Users/vishaldiyora/anaconda5/lib/python3.5/site-packages/pandas/core/frame.py\u001b[0m in \u001b[0;36mto_csv\u001b[0;34m(self, path_or_buf, sep, na_rep, float_format, columns, header, index, index_label, mode, encoding, compression, quoting, quotechar, line_terminator, chunksize, tupleize_cols, date_format, doublequote, escapechar, decimal)\u001b[0m\n\u001b[1;32m   1381\u001b[0m                                      \u001b[0mdoublequote\u001b[0m\u001b[0;34m=\u001b[0m\u001b[0mdoublequote\u001b[0m\u001b[0;34m,\u001b[0m\u001b[0;34m\u001b[0m\u001b[0m\n\u001b[1;32m   1382\u001b[0m                                      escapechar=escapechar, decimal=decimal)\n\u001b[0;32m-> 1383\u001b[0;31m         \u001b[0mformatter\u001b[0m\u001b[0;34m.\u001b[0m\u001b[0msave\u001b[0m\u001b[0;34m(\u001b[0m\u001b[0;34m)\u001b[0m\u001b[0;34m\u001b[0m\u001b[0m\n\u001b[0m\u001b[1;32m   1384\u001b[0m \u001b[0;34m\u001b[0m\u001b[0m\n\u001b[1;32m   1385\u001b[0m         \u001b[0;32mif\u001b[0m \u001b[0mpath_or_buf\u001b[0m \u001b[0;32mis\u001b[0m \u001b[0;32mNone\u001b[0m\u001b[0;34m:\u001b[0m\u001b[0;34m\u001b[0m\u001b[0m\n",
      "\u001b[0;32m/Users/vishaldiyora/anaconda5/lib/python3.5/site-packages/pandas/formats/format.py\u001b[0m in \u001b[0;36msave\u001b[0;34m(self)\u001b[0m\n\u001b[1;32m   1458\u001b[0m             f = _get_handle(self.path_or_buf, self.mode,\n\u001b[1;32m   1459\u001b[0m                             \u001b[0mencoding\u001b[0m\u001b[0;34m=\u001b[0m\u001b[0mself\u001b[0m\u001b[0;34m.\u001b[0m\u001b[0mencoding\u001b[0m\u001b[0;34m,\u001b[0m\u001b[0;34m\u001b[0m\u001b[0m\n\u001b[0;32m-> 1460\u001b[0;31m                             compression=self.compression)\n\u001b[0m\u001b[1;32m   1461\u001b[0m             \u001b[0mclose\u001b[0m \u001b[0;34m=\u001b[0m \u001b[0;32mTrue\u001b[0m\u001b[0;34m\u001b[0m\u001b[0m\n\u001b[1;32m   1462\u001b[0m \u001b[0;34m\u001b[0m\u001b[0m\n",
      "\u001b[0;32m/Users/vishaldiyora/anaconda5/lib/python3.5/site-packages/pandas/io/common.py\u001b[0m in \u001b[0;36m_get_handle\u001b[0;34m(path, mode, encoding, compression, memory_map)\u001b[0m\n\u001b[1;32m    330\u001b[0m                 \u001b[0mf\u001b[0m \u001b[0;34m=\u001b[0m \u001b[0mopen\u001b[0m\u001b[0;34m(\u001b[0m\u001b[0mpath\u001b[0m\u001b[0;34m,\u001b[0m \u001b[0mmode\u001b[0m\u001b[0;34m,\u001b[0m \u001b[0mencoding\u001b[0m\u001b[0;34m=\u001b[0m\u001b[0mencoding\u001b[0m\u001b[0;34m)\u001b[0m\u001b[0;34m\u001b[0m\u001b[0m\n\u001b[1;32m    331\u001b[0m             \u001b[0;32melse\u001b[0m\u001b[0;34m:\u001b[0m\u001b[0;34m\u001b[0m\u001b[0m\n\u001b[0;32m--> 332\u001b[0;31m                 \u001b[0mf\u001b[0m \u001b[0;34m=\u001b[0m \u001b[0mopen\u001b[0m\u001b[0;34m(\u001b[0m\u001b[0mpath\u001b[0m\u001b[0;34m,\u001b[0m \u001b[0mmode\u001b[0m\u001b[0;34m,\u001b[0m \u001b[0merrors\u001b[0m\u001b[0;34m=\u001b[0m\u001b[0;34m'replace'\u001b[0m\u001b[0;34m)\u001b[0m\u001b[0;34m\u001b[0m\u001b[0m\n\u001b[0m\u001b[1;32m    333\u001b[0m         \u001b[0;32melse\u001b[0m\u001b[0;34m:\u001b[0m\u001b[0;34m\u001b[0m\u001b[0m\n\u001b[1;32m    334\u001b[0m             \u001b[0mf\u001b[0m \u001b[0;34m=\u001b[0m \u001b[0mopen\u001b[0m\u001b[0;34m(\u001b[0m\u001b[0mpath\u001b[0m\u001b[0;34m,\u001b[0m \u001b[0mmode\u001b[0m\u001b[0;34m)\u001b[0m\u001b[0;34m\u001b[0m\u001b[0m\n",
      "\u001b[0;31mFileNotFoundError\u001b[0m: [Errno 2] No such file or directory: 'CSV/Q4_P1.csv'"
     ]
    }
   ],
   "source": [
    "awards.to_csv('CSV/Q4_P1.csv')"
   ]
  },
  {
   "cell_type": "code",
   "execution_count": null,
   "metadata": {
    "collapsed": true
   },
   "outputs": [],
   "source": [
    "import pandas as pd\n",
    "import csv\n",
    "import calendar\n",
    "\n",
    "#Read file from csv\n",
    "vehicle= pd.read_csv(\"vehicle_collisions.csv\")\n",
    "with open('CSV/Q1_P1.csv','w') as csvfile:\n",
    "    fieldnames = ['MONTH','MANHATTAN','NYC','PERCENTAGE']\n",
    "    writer = csv.DictWriter(csvfile, fieldnames=fieldnames)\n",
    "    writer.writeheader()\n",
    "    for a in range(1,13):\n",
    "        #Looping through each month\n",
    "        year=vehicle[(vehicle['BOROUGH'] ==\"MANHATTAN\") & (vehicle['DATE'].apply(lambda x:x.split(\"/\")[2]) == \"16\") ]\n",
    "        nyc=((vehicle['DATE'].apply(lambda x:x.split(\"/\")[2]) == \"16\") & (vehicle['DATE'].apply(lambda x:x.split(\"/\")[0]) == str(a))).sum()\n",
    "        manhattan_acc=(year['DATE'].apply(lambda x:x.split(\"/\")[0]) == str(a)).sum()\n",
    "        percentage=manhattan_acc/nyc\n",
    "#         print(percentage.round(8),nyc,manhattan_acc,calendar.month_name[int(a)][:3])\n",
    "        writer.writerow({'MONTH':calendar.month_name[int(a)][:3],'MANHATTAN':manhattan_acc,'NYC':nyc,'PERCENTAGE':percentage.round(8)})\n"
   ]
  },
  {
   "cell_type": "code",
   "execution_count": null,
   "metadata": {
    "collapsed": true
   },
   "outputs": [],
   "source": []
  }
 ],
 "metadata": {
  "anaconda-cloud": {},
  "kernelspec": {
   "display_name": "Python [conda root]",
   "language": "python",
   "name": "conda-root-py"
  },
  "language_info": {
   "codemirror_mode": {
    "name": "ipython",
    "version": 3
   },
   "file_extension": ".py",
   "mimetype": "text/x-python",
   "name": "python",
   "nbconvert_exporter": "python",
   "pygments_lexer": "ipython3",
   "version": "3.5.2"
  }
 },
 "nbformat": 4,
 "nbformat_minor": 1
}
