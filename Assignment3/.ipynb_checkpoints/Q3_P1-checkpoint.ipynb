{
 "cells": [
  {
   "cell_type": "code",
   "execution_count": 17,
   "metadata": {
    "collapsed": true
   },
   "outputs": [],
   "source": [
    "import pandas as pd\n",
    "import numpy as np\n",
    "import math,ast"
   ]
  },
  {
   "cell_type": "code",
   "execution_count": 138,
   "metadata": {
    "collapsed": false
   },
   "outputs": [],
   "source": [
    "cricket=pd.read_csv('cricket_matches.csv')\n",
    "cricket_host=cricket[cricket['home'] == cricket['winner']]\n",
    "# xyz=cricket_host[cricket_host['home'] == \"Nondescripts Cricket Club\"]\n",
    "# # if(cricket_host['home'] == 'Nondescripts Cricket Club'):\n",
    "# if([xyz['innings1'] == 'Nondescripts Cricket Club']):\n",
    "#     a.append(xyz['innings1_runs'])\n",
    "# else:\n",
    "#     a.append(xyz['innings2_runs'])\n",
    "# a,xyz['innings1'] == 'Nondescripts Cricket Club'"
   ]
  },
  {
   "cell_type": "code",
   "execution_count": 139,
   "metadata": {
    "collapsed": false
   },
   "outputs": [],
   "source": [
    "# cricket_host[(cricket_host['innings1'] == \"Durham\") & (np.isnan(cricket_host['win_by_runs']) == ast.literal_eval('False'))]['innings1_runs'].sum()\n",
    "# xyz=cricket_host[(cricket_host['innings1'] == \"Karachi Blues\") & (np.isnan(cricket_host['win_by_runs']) == ast.literal_eval('False'))]['innings1_runs']\n",
    "# xyz,xyz.sum(),xyz.mean(),xyz.count()"
   ]
  },
  {
   "cell_type": "code",
   "execution_count": 140,
   "metadata": {
    "collapsed": false
   },
   "outputs": [],
   "source": [
    "# xyz1=cricket_host[(cricket_host['innings2'] ==  \"Karachi Blues\") & (np.isnan(cricket_host['win_by_wickets']) == ast.literal_eval('False'))]['innings2_runs']\n",
    "# xyz1,xyz1.sum(),xyz1.mean(),xyz1.count(),round((xyz.sum()+xyz1.sum())/(xyz.count()+xyz1.count()))    \n"
   ]
  },
  {
   "cell_type": "code",
   "execution_count": 145,
   "metadata": {
    "collapsed": false
   },
   "outputs": [
    {
     "name": "stderr",
     "output_type": "stream",
     "text": [
      "/Users/vishaldiyora/anaconda5/lib/python3.5/site-packages/ipykernel/__main__.py:6: RuntimeWarning: invalid value encountered in long_scalars\n"
     ]
    },
    {
     "data": {
      "text/plain": [
       "0      158.0\n",
       "1      162.0\n",
       "2      156.0\n",
       "3      168.0\n",
       "4      155.0\n",
       "5      160.0\n",
       "6      157.0\n",
       "7      156.0\n",
       "8      165.0\n",
       "9      157.0\n",
       "10     148.0\n",
       "11     154.0\n",
       "12     153.0\n",
       "13     163.0\n",
       "14     158.0\n",
       "15     151.0\n",
       "16     167.0\n",
       "17     116.0\n",
       "18     156.0\n",
       "19     157.0\n",
       "20     152.0\n",
       "21     180.0\n",
       "22     124.0\n",
       "23     132.0\n",
       "24     156.0\n",
       "25     162.0\n",
       "26     158.0\n",
       "27     166.0\n",
       "28     145.0\n",
       "29     160.0\n",
       "       ...  \n",
       "245    138.0\n",
       "246    139.0\n",
       "247    139.0\n",
       "248    158.0\n",
       "249    112.0\n",
       "250    142.0\n",
       "251    144.0\n",
       "252    155.0\n",
       "253    132.0\n",
       "254    145.0\n",
       "255    141.0\n",
       "256    156.0\n",
       "257    154.0\n",
       "258    145.0\n",
       "259    146.0\n",
       "260    150.0\n",
       "261    179.0\n",
       "262    127.0\n",
       "263    161.0\n",
       "264    173.0\n",
       "265    170.0\n",
       "266    170.0\n",
       "267    140.0\n",
       "268    136.0\n",
       "269    161.0\n",
       "270    163.0\n",
       "271    140.0\n",
       "272    151.0\n",
       "273    133.0\n",
       "274    162.0\n",
       "Name: Score, dtype: float64"
      ]
     },
     "execution_count": 145,
     "metadata": {},
     "output_type": "execute_result"
    }
   ],
   "source": [
    "team=[]\n",
    "run_avg=[]\n",
    "for team_name in cricket_host.home.unique():\n",
    "    score_inn1=(cricket_host[(cricket_host['innings1'] == team_name) & (np.isnan(cricket_host['win_by_runs']) == ast.literal_eval('False'))]['innings1_runs'])\n",
    "    score_inn2=cricket_host[(cricket_host['innings2'] == team_name) & (np.isnan(cricket_host['win_by_wickets']) == ast.literal_eval('False'))]['innings2_runs']\n",
    "    score=(score_inn1.sum()+score_inn2.sum())/(score_inn1.count()+score_inn2.count())\n",
    "    team.append(team_name)\n",
    "    run_avg.append(round(score))\n",
    "home_score=pd.DataFrame({'Home':team,'Score':run_avg})\n",
    "#remove score with nan\n",
    "home_score=home_score.dropna()\n",
    "home_score.to_csv('Q3_P1.csv')\n",
    "home_score"
   ]
  },
  {
   "cell_type": "code",
   "execution_count": null,
   "metadata": {
    "collapsed": true
   },
   "outputs": [],
   "source": []
  },
  {
   "cell_type": "code",
   "execution_count": null,
   "metadata": {
    "collapsed": true
   },
   "outputs": [],
   "source": []
  }
 ],
 "metadata": {
  "anaconda-cloud": {},
  "kernelspec": {
   "display_name": "Python [conda root]",
   "language": "python",
   "name": "conda-root-py"
  },
  "language_info": {
   "codemirror_mode": {
    "name": "ipython",
    "version": 3
   },
   "file_extension": ".py",
   "mimetype": "text/x-python",
   "name": "python",
   "nbconvert_exporter": "python",
   "pygments_lexer": "ipython3",
   "version": "3.5.2"
  }
 },
 "nbformat": 4,
 "nbformat_minor": 1
}
