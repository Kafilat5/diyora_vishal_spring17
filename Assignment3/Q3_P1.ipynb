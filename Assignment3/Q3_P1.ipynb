{
 "cells": [
  {
   "cell_type": "code",
   "execution_count": 1,
   "metadata": {
    "collapsed": true
   },
   "outputs": [],
   "source": [
    "import pandas as pd\n",
    "import numpy as np\n",
    "import math,ast"
   ]
  },
  {
   "cell_type": "code",
   "execution_count": 2,
   "metadata": {
    "collapsed": false
   },
   "outputs": [],
   "source": [
    "cricket=pd.read_csv('cricket_matches.csv')\n",
    "cricket_host=cricket[cricket['home'] == cricket['winner']]\n",
    "# xyz=cricket_host[cricket_host['home'] == \"Nondescripts Cricket Club\"]\n",
    "# # if(cricket_host['home'] == 'Nondescripts Cricket Club'):\n",
    "# if([xyz['innings1'] == 'Nondescripts Cricket Club']):\n",
    "#     a.append(xyz['innings1_runs'])\n",
    "# else:\n",
    "#     a.append(xyz['innings2_runs'])\n",
    "# a,xyz['innings1'] == 'Nondescripts Cricket Club'"
   ]
  },
  {
   "cell_type": "code",
   "execution_count": 3,
   "metadata": {
    "collapsed": false
   },
   "outputs": [],
   "source": [
    "# cricket_host[(cricket_host['innings1'] == \"Durham\") & (np.isnan(cricket_host['win_by_runs']) == ast.literal_eval('False'))]['innings1_runs'].sum()\n",
    "# xyz=cricket_host[(cricket_host['innings1'] == \"Karachi Blues\") & (np.isnan(cricket_host['win_by_runs']) == ast.literal_eval('False'))]['innings1_runs']\n",
    "# xyz,xyz.sum(),xyz.mean(),xyz.count()"
   ]
  },
  {
   "cell_type": "code",
   "execution_count": 4,
   "metadata": {
    "collapsed": false
   },
   "outputs": [],
   "source": [
    "# xyz1=cricket_host[(cricket_host['innings2'] ==  \"Karachi Blues\") & (np.isnan(cricket_host['win_by_wickets']) == ast.literal_eval('False'))]['innings2_runs']\n",
    "# xyz1,xyz1.sum(),xyz1.mean(),xyz1.count(),round((xyz.sum()+xyz1.sum())/(xyz.count()+xyz1.count()))    \n"
   ]
  },
  {
   "cell_type": "code",
   "execution_count": 6,
   "metadata": {
    "collapsed": false
   },
   "outputs": [
    {
     "name": "stderr",
     "output_type": "stream",
     "text": [
      "/Users/vishaldiyora/anaconda5/lib/python3.5/site-packages/ipykernel/__main__.py:6: RuntimeWarning: invalid value encountered in long_scalars\n"
     ]
    },
    {
     "data": {
      "text/html": [
       "<div>\n",
       "<table border=\"1\" class=\"dataframe\">\n",
       "  <thead>\n",
       "    <tr style=\"text-align: right;\">\n",
       "      <th></th>\n",
       "      <th>Home</th>\n",
       "      <th>Score</th>\n",
       "    </tr>\n",
       "  </thead>\n",
       "  <tbody>\n",
       "    <tr>\n",
       "      <th>0</th>\n",
       "      <td>Durham</td>\n",
       "      <td>158.0</td>\n",
       "    </tr>\n",
       "    <tr>\n",
       "      <th>1</th>\n",
       "      <td>Hampshire</td>\n",
       "      <td>162.0</td>\n",
       "    </tr>\n",
       "    <tr>\n",
       "      <th>2</th>\n",
       "      <td>Surrey</td>\n",
       "      <td>156.0</td>\n",
       "    </tr>\n",
       "    <tr>\n",
       "      <th>3</th>\n",
       "      <td>Worcestershire</td>\n",
       "      <td>168.0</td>\n",
       "    </tr>\n",
       "    <tr>\n",
       "      <th>4</th>\n",
       "      <td>Gloucestershire</td>\n",
       "      <td>155.0</td>\n",
       "    </tr>\n",
       "  </tbody>\n",
       "</table>\n",
       "</div>"
      ],
      "text/plain": [
       "              Home  Score\n",
       "0           Durham  158.0\n",
       "1        Hampshire  162.0\n",
       "2           Surrey  156.0\n",
       "3   Worcestershire  168.0\n",
       "4  Gloucestershire  155.0"
      ]
     },
     "execution_count": 6,
     "metadata": {},
     "output_type": "execute_result"
    }
   ],
   "source": [
    "team=[]\n",
    "run_avg=[]\n",
    "for team_name in cricket_host.home.unique():\n",
    "    score_inn1=(cricket_host[(cricket_host['innings1'] == team_name) & (np.isnan(cricket_host['win_by_runs']) == ast.literal_eval('False'))]['innings1_runs'])\n",
    "    score_inn2=cricket_host[(cricket_host['innings2'] == team_name) & (np.isnan(cricket_host['win_by_wickets']) == ast.literal_eval('False'))]['innings2_runs']\n",
    "    score=(score_inn1.sum()+score_inn2.sum())/(score_inn1.count()+score_inn2.count())\n",
    "    team.append(team_name)\n",
    "    run_avg.append(round(score))\n",
    "home_score=pd.DataFrame({'Home':team,'Score':run_avg})\n",
    "#remove score with nan\n",
    "home_score=home_score.dropna()\n",
    "home_score.to_csv('Q3_P1.csv')\n",
    "home_score.head()"
   ]
  },
  {
   "cell_type": "code",
   "execution_count": null,
   "metadata": {
    "collapsed": true
   },
   "outputs": [],
   "source": []
  },
  {
   "cell_type": "code",
   "execution_count": null,
   "metadata": {
    "collapsed": true
   },
   "outputs": [],
   "source": []
  }
 ],
 "metadata": {
  "anaconda-cloud": {},
  "kernelspec": {
   "display_name": "Python [conda root]",
   "language": "python",
   "name": "conda-root-py"
  },
  "language_info": {
   "codemirror_mode": {
    "name": "ipython",
    "version": 3
   },
   "file_extension": ".py",
   "mimetype": "text/x-python",
   "name": "python",
   "nbconvert_exporter": "python",
   "pygments_lexer": "ipython3",
   "version": "3.5.2"
  }
 },
 "nbformat": 4,
 "nbformat_minor": 1
}
