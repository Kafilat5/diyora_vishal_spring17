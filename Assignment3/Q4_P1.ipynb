{
 "cells": [
  {
   "cell_type": "code",
   "execution_count": 1,
   "metadata": {
    "collapsed": false
   },
   "outputs": [],
   "source": [
    "import csv\n",
    "import pandas as pd\n",
    "import re\n"
   ]
  },
  {
   "cell_type": "code",
   "execution_count": 4,
   "metadata": {
    "collapsed": false
   },
   "outputs": [
    {
     "data": {
      "text/plain": [
       "3     1 win & 2 nominations\n",
       "4                     1 win\n",
       "5              1 nomination\n",
       "6    3 wins & 2 nominations\n",
       "7      1 win & 1 nomination\n",
       "Name: Awards, dtype: object"
      ]
     },
     "execution_count": 4,
     "metadata": {},
     "output_type": "execute_result"
    }
   ],
   "source": [
    "movie= pd.read_csv('movies_awards.csv',encoding ='latin1')\n",
    "abc=movie['Awards'].dropna().str.rstrip('.')\n",
    "abc.head()\n",
    "# for ab in abc\n",
    "# if \"win\" in ab:\n",
    "#     ab.split('&')\n",
    "# #     "
   ]
  },
  {
   "cell_type": "code",
   "execution_count": 5,
   "metadata": {
    "collapsed": false
   },
   "outputs": [
    {
     "name": "stdout",
     "output_type": "stream",
     "text": [
      "nomin\n"
     ]
    }
   ],
   "source": [
    "# from nltk.stem.snowball import SnowballStemmer\n",
    "# stemmer = SnowballStemmer(\"english\")\n",
    "# print(stemmer.stem(\"nominated\"))"
   ]
  },
  {
   "cell_type": "code",
   "execution_count": 6,
   "metadata": {
    "collapsed": false
   },
   "outputs": [
    {
     "ename": "AttributeError",
     "evalue": "'list' object has no attribute 'lower'",
     "output_type": "error",
     "traceback": [
      "\u001b[0;31m---------------------------------------------------------------------------\u001b[0m",
      "\u001b[0;31mAttributeError\u001b[0m                            Traceback (most recent call last)",
      "\u001b[0;32m<ipython-input-6-e457b5e0e3ad>\u001b[0m in \u001b[0;36m<module>\u001b[0;34m()\u001b[0m\n\u001b[0;32m----> 1\u001b[0;31m \u001b[0mprint\u001b[0m\u001b[0;34m(\u001b[0m\u001b[0mstemmer\u001b[0m\u001b[0;34m.\u001b[0m\u001b[0mstem\u001b[0m\u001b[0;34m(\u001b[0m\u001b[0;34m[\u001b[0m\u001b[0;34m'1'\u001b[0m\u001b[0;34m,\u001b[0m \u001b[0;34m'win'\u001b[0m\u001b[0;34m,\u001b[0m \u001b[0;34m'&'\u001b[0m\u001b[0;34m,\u001b[0m \u001b[0;34m'2'\u001b[0m\u001b[0;34m,\u001b[0m \u001b[0;34m'nominations'\u001b[0m\u001b[0;34m]\u001b[0m\u001b[0;34m)\u001b[0m\u001b[0;34m)\u001b[0m\u001b[0;34m\u001b[0m\u001b[0m\n\u001b[0m",
      "\u001b[0;32m/Users/vishaldiyora/anaconda5/lib/python3.5/site-packages/nltk/stem/snowball.py\u001b[0m in \u001b[0;36mstem\u001b[0;34m(self, word)\u001b[0m\n\u001b[1;32m    681\u001b[0m \u001b[0;34m\u001b[0m\u001b[0m\n\u001b[1;32m    682\u001b[0m         \"\"\"\n\u001b[0;32m--> 683\u001b[0;31m         \u001b[0mword\u001b[0m \u001b[0;34m=\u001b[0m \u001b[0mword\u001b[0m\u001b[0;34m.\u001b[0m\u001b[0mlower\u001b[0m\u001b[0;34m(\u001b[0m\u001b[0;34m)\u001b[0m\u001b[0;34m\u001b[0m\u001b[0m\n\u001b[0m\u001b[1;32m    684\u001b[0m \u001b[0;34m\u001b[0m\u001b[0m\n\u001b[1;32m    685\u001b[0m         \u001b[0;32mif\u001b[0m \u001b[0mword\u001b[0m \u001b[0;32min\u001b[0m \u001b[0mself\u001b[0m\u001b[0;34m.\u001b[0m\u001b[0mstopwords\u001b[0m \u001b[0;32mor\u001b[0m \u001b[0mlen\u001b[0m\u001b[0;34m(\u001b[0m\u001b[0mword\u001b[0m\u001b[0;34m)\u001b[0m \u001b[0;34m<=\u001b[0m \u001b[0;36m2\u001b[0m\u001b[0;34m:\u001b[0m\u001b[0;34m\u001b[0m\u001b[0m\n",
      "\u001b[0;31mAttributeError\u001b[0m: 'list' object has no attribute 'lower'"
     ]
    }
   ],
   "source": [
    "# print(stemmer.stem(['1', 'win', '&', '2', 'nominations']))\n"
   ]
  },
  {
   "cell_type": "code",
   "execution_count": 7,
   "metadata": {
    "collapsed": false
   },
   "outputs": [],
   "source": [
    "# axx=[\"nomin\", 1, 11, \"win\", \"&\", 24 ,\"nomin\"]\n",
    "# [axx.index(\"nomin\")]\n",
    "# \"win\" in l\n",
    "# ax=l.index(\"win\")-1\n",
    "# int(l[ax])\n",
    "# # abc.values()\n",
    "# z=[]\n",
    "# def a(ax):\n",
    "#     zx=ax.split(' ')\n",
    "#     for e in zx:\n",
    "#         if digit():\n",
    "            \n",
    "#             z.append(stemmer.stem(e))\n",
    "#     return z\n",
    "        \n",
    "# abc[200:300]"
   ]
  },
  {
   "cell_type": "code",
   "execution_count": 8,
   "metadata": {
    "collapsed": false
   },
   "outputs": [
    {
     "data": {
      "text/html": [
       "<div>\n",
       "<table border=\"1\" class=\"dataframe\">\n",
       "  <thead>\n",
       "    <tr style=\"text-align: right;\">\n",
       "      <th></th>\n",
       "      <th>Awards</th>\n",
       "      <th>Awards_Won</th>\n",
       "      <th>Awards_Nominated</th>\n",
       "      <th>Prime_Awards_Nominated</th>\n",
       "      <th>Oscar_Awards_Nominated</th>\n",
       "      <th>Golden_Globe_Awards_Nominated</th>\n",
       "      <th>BAFTA_Awards_Nominated</th>\n",
       "      <th>Prime_Awards_won</th>\n",
       "      <th>Oscar_Awards_won</th>\n",
       "      <th>Golden_Globe_Awards_won</th>\n",
       "      <th>BAFTA_Awards_won</th>\n",
       "    </tr>\n",
       "  </thead>\n",
       "  <tbody>\n",
       "    <tr>\n",
       "      <th>3</th>\n",
       "      <td>1 win &amp; 2 nominations</td>\n",
       "      <td>NaN</td>\n",
       "      <td>NaN</td>\n",
       "      <td>NaN</td>\n",
       "      <td>NaN</td>\n",
       "      <td>NaN</td>\n",
       "      <td>NaN</td>\n",
       "      <td>NaN</td>\n",
       "      <td>NaN</td>\n",
       "      <td>NaN</td>\n",
       "      <td>NaN</td>\n",
       "    </tr>\n",
       "    <tr>\n",
       "      <th>4</th>\n",
       "      <td>1 win</td>\n",
       "      <td>NaN</td>\n",
       "      <td>NaN</td>\n",
       "      <td>NaN</td>\n",
       "      <td>NaN</td>\n",
       "      <td>NaN</td>\n",
       "      <td>NaN</td>\n",
       "      <td>NaN</td>\n",
       "      <td>NaN</td>\n",
       "      <td>NaN</td>\n",
       "      <td>NaN</td>\n",
       "    </tr>\n",
       "    <tr>\n",
       "      <th>5</th>\n",
       "      <td>1 nomination</td>\n",
       "      <td>NaN</td>\n",
       "      <td>NaN</td>\n",
       "      <td>NaN</td>\n",
       "      <td>NaN</td>\n",
       "      <td>NaN</td>\n",
       "      <td>NaN</td>\n",
       "      <td>NaN</td>\n",
       "      <td>NaN</td>\n",
       "      <td>NaN</td>\n",
       "      <td>NaN</td>\n",
       "    </tr>\n",
       "    <tr>\n",
       "      <th>6</th>\n",
       "      <td>3 wins &amp; 2 nominations</td>\n",
       "      <td>NaN</td>\n",
       "      <td>NaN</td>\n",
       "      <td>NaN</td>\n",
       "      <td>NaN</td>\n",
       "      <td>NaN</td>\n",
       "      <td>NaN</td>\n",
       "      <td>NaN</td>\n",
       "      <td>NaN</td>\n",
       "      <td>NaN</td>\n",
       "      <td>NaN</td>\n",
       "    </tr>\n",
       "    <tr>\n",
       "      <th>7</th>\n",
       "      <td>1 win &amp; 1 nomination</td>\n",
       "      <td>NaN</td>\n",
       "      <td>NaN</td>\n",
       "      <td>NaN</td>\n",
       "      <td>NaN</td>\n",
       "      <td>NaN</td>\n",
       "      <td>NaN</td>\n",
       "      <td>NaN</td>\n",
       "      <td>NaN</td>\n",
       "      <td>NaN</td>\n",
       "      <td>NaN</td>\n",
       "    </tr>\n",
       "  </tbody>\n",
       "</table>\n",
       "</div>"
      ],
      "text/plain": [
       "                   Awards Awards_Won Awards_Nominated Prime_Awards_Nominated  \\\n",
       "3   1 win & 2 nominations        NaN              NaN                    NaN   \n",
       "4                   1 win        NaN              NaN                    NaN   \n",
       "5            1 nomination        NaN              NaN                    NaN   \n",
       "6  3 wins & 2 nominations        NaN              NaN                    NaN   \n",
       "7    1 win & 1 nomination        NaN              NaN                    NaN   \n",
       "\n",
       "  Oscar_Awards_Nominated Golden_Globe_Awards_Nominated BAFTA_Awards_Nominated  \\\n",
       "3                    NaN                           NaN                    NaN   \n",
       "4                    NaN                           NaN                    NaN   \n",
       "5                    NaN                           NaN                    NaN   \n",
       "6                    NaN                           NaN                    NaN   \n",
       "7                    NaN                           NaN                    NaN   \n",
       "\n",
       "  Prime_Awards_won Oscar_Awards_won Golden_Globe_Awards_won BAFTA_Awards_won  \n",
       "3              NaN              NaN                     NaN              NaN  \n",
       "4              NaN              NaN                     NaN              NaN  \n",
       "5              NaN              NaN                     NaN              NaN  \n",
       "6              NaN              NaN                     NaN              NaN  \n",
       "7              NaN              NaN                     NaN              NaN  "
      ]
     },
     "execution_count": 8,
     "metadata": {},
     "output_type": "execute_result"
    }
   ],
   "source": [
    "awards=pd.DataFrame(columns=[\"Awards\",\"Awards_Won\",\"Awards_Nominated\",\"Prime_Awards_Nominated\",\"Oscar_Awards_Nominated\",\"Golden_Globe_Awards_Nominated\",\"BAFTA_Awards_Nominated\",\"Prime_Awards_won\",\"Oscar_Awards_won\",\"Golden_Globe_Awards_won\",\"BAFTA_Awards_won\"])\n",
    "awards['Awards'] = abc\n",
    "awards.head()"
   ]
  },
  {
   "cell_type": "code",
   "execution_count": 9,
   "metadata": {
    "collapsed": false
   },
   "outputs": [],
   "source": [
    "# xyz=movie['Awards'].dropna().apply(lambda x:re.sub('\\.$', '', x)).apply(lambda x:x.split(' '))\n",
    "# # abc=xyz.apply(lambda x:[stemmer.stem(y) for y in x])\n",
    "# # print(abc)\n",
    "# annn=[]\n",
    "# nooo=[]\n",
    "# for a in abc:\n",
    "#     if (\"win\" in str(a)) | (\"wins\" in str(a)):\n",
    "#         pos=a.index(\"win\")-1\n",
    "#         annn.append(a[pos])\n",
    "#     else:\n",
    "#         annn.append(0)\n",
    "#     if \"nomin\" in str(a):\n",
    "#         if a.index(\"nomin\") != 0:\n",
    "#             pos1=a.index(\"nomin\")-1\n",
    "#             nooo.append(a[pos1])\n",
    "#     else:\n",
    "#         nooo.append(0)\n",
    "        \n",
    "# awards['Awards_Won'] =annn\n",
    "# awards['Awards_Nominated'] = nooo"
   ]
  },
  {
   "cell_type": "code",
   "execution_count": null,
   "metadata": {
    "collapsed": false
   },
   "outputs": [],
   "source": []
  },
  {
   "cell_type": "code",
   "execution_count": null,
   "metadata": {
    "collapsed": true
   },
   "outputs": [],
   "source": []
  }
 ],
 "metadata": {
  "anaconda-cloud": {},
  "kernelspec": {
   "display_name": "Python [conda root]",
   "language": "python",
   "name": "conda-root-py"
  },
  "language_info": {
   "codemirror_mode": {
    "name": "ipython",
    "version": 3
   },
   "file_extension": ".py",
   "mimetype": "text/x-python",
   "name": "python",
   "nbconvert_exporter": "python",
   "pygments_lexer": "ipython3",
   "version": "3.5.2"
  }
 },
 "nbformat": 4,
 "nbformat_minor": 1
}
