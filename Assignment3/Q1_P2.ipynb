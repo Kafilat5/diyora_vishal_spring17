{
 "cells": [
  {
   "cell_type": "code",
   "execution_count": 2,
   "metadata": {
    "collapsed": true
   },
   "outputs": [],
   "source": [
    "import pandas as pd\n",
    "import calendar\n",
    "import csv,ast\n",
    "import numpy as np"
   ]
  },
  {
   "cell_type": "code",
   "execution_count": 3,
   "metadata": {
    "collapsed": false
   },
   "outputs": [],
   "source": [
    "vehicle= pd.read_csv('vehicle_collisions.csv')\n",
    "\n",
    "with open('Q1_P2.csv','w') as csvfile:\n",
    "    fieldnames = ['BOROUGH','ONE_VEHICLE_INVOLVED','TWO_VEHICLE_INVOLVED','THREE_VEHICLE_INVOVLED','MORE_VEHICLES_INVOLVED']\n",
    "    writer = csv.DictWriter(csvfile, fieldnames=fieldnames)\n",
    "    writer.writeheader()\n",
    "    for borough in(vehicle[~vehicle['BOROUGH'].isnull()]['BOROUGH'].unique()):\n",
    "        queens=vehicle[vehicle['BOROUGH'] == borough]\n",
    "        abc=pd.isnull(queens)\n",
    "        one_vehicle=((abc['VEHICLE 1 TYPE'] == ast.literal_eval('False')) & (abc['VEHICLE 2 TYPE'] == ast.literal_eval('True')) & (abc['VEHICLE 3 TYPE'] == ast.literal_eval('True')) & (abc['VEHICLE 4 TYPE'] == ast.literal_eval('True')) & (abc['VEHICLE 5 TYPE'] == ast.literal_eval('True'))).sum()\n",
    "        two_vehicle=((abc['VEHICLE 1 TYPE'] == ast.literal_eval('False')) & (abc['VEHICLE 2 TYPE'] == ast.literal_eval('False')) & (abc['VEHICLE 3 TYPE'] == ast.literal_eval('True')) & (abc['VEHICLE 4 TYPE'] == ast.literal_eval('True')) & (abc['VEHICLE 5 TYPE'] == ast.literal_eval('True'))).sum()\n",
    "        three_vehicle=((abc['VEHICLE 1 TYPE'] == ast.literal_eval('False')) & (abc['VEHICLE 2 TYPE'] == ast.literal_eval('False')) & (abc['VEHICLE 3 TYPE'] == ast.literal_eval('False')) & (abc['VEHICLE 4 TYPE'] == ast.literal_eval('True')) & (abc['VEHICLE 5 TYPE'] == ast.literal_eval('True'))).sum()\n",
    "    #     four_vehicle=((abc['VEHICLE 1 TYPE'] == ast.literal_eval('False')) & (abc['VEHICLE 2 TYPE'] == ast.literal_eval('False')) & (abc['VEHICLE 3 TYPE'] == ast.literal_eval('False')) & (abc['VEHICLE 4 TYPE'] == ast.literal_eval('False'))& (abc['VEHICLE 5 TYPE'] == ast.literal_eval('True'))).sum()\n",
    "    #     five_vehicle=((abc['VEHICLE 1 TYPE'] == ast.literal_eval('False')) & (abc['VEHICLE 2 TYPE'] == ast.literal_eval('False')) & (abc['VEHICLE 3 TYPE'] == ast.literal_eval('False')) & (abc['VEHICLE 4 TYPE'] == ast.literal_eval('False')) & (abc['VEHICLE 5 TYPE'] == ast.literal_eval('False'))).sum()\n",
    "        more_vehicle=len(abc)-one_vehicle-two_vehicle-three_vehicle\n",
    "        writer.writerow({'BOROUGH':borough,'ONE_VEHICLE_INVOLVED':one_vehicle,'TWO_VEHICLE_INVOLVED':two_vehicle,'THREE_VEHICLE_INVOVLED':three_vehicle,'MORE_VEHICLES_INVOLVED':more_vehicle})"
   ]
  },
  {
   "cell_type": "code",
   "execution_count": 4,
   "metadata": {
    "collapsed": false
   },
   "outputs": [],
   "source": [
    "# import ast\n",
    "# abc=pd.isnull(queens)\n",
    "# one_vehicle=((abc['VEHICLE 1 TYPE'] == ast.literal_eval('False')) & (abc['VEHICLE 2 TYPE'] == ast.literal_eval('True')) & (abc['VEHICLE 3 TYPE'] == ast.literal_eval('True')) & (abc['VEHICLE 4 TYPE'] == ast.literal_eval('True')) & (abc['VEHICLE 5 TYPE'] == ast.literal_eval('True'))).sum()\n",
    "# two_vehicle=((abc['VEHICLE 1 TYPE'] == ast.literal_eval('False')) & (abc['VEHICLE 2 TYPE'] == ast.literal_eval('False')) & (abc['VEHICLE 3 TYPE'] == ast.literal_eval('True')) & (abc['VEHICLE 4 TYPE'] == ast.literal_eval('True')) & (abc['VEHICLE 5 TYPE'] == ast.literal_eval('True'))).sum()\n",
    "# three_vehicle=((abc['VEHICLE 1 TYPE'] == ast.literal_eval('False')) & (abc['VEHICLE 2 TYPE'] == ast.literal_eval('False')) & (abc['VEHICLE 3 TYPE'] == ast.literal_eval('False')) & (abc['VEHICLE 4 TYPE'] == ast.literal_eval('True')) & (abc['VEHICLE 5 TYPE'] == ast.literal_eval('True'))).sum()\n",
    "# more_vehicle=len(abc)-one_vehicle-two_vehicle-three_vehicle\n",
    "# more_vehicle"
   ]
  },
  {
   "cell_type": "code",
   "execution_count": 5,
   "metadata": {
    "collapsed": false
   },
   "outputs": [],
   "source": [
    "# cleanedList = [x for x in vehicle['BOROUGH'].unique() if x != ' ']\n",
    "# cleanedList"
   ]
  },
  {
   "cell_type": "code",
   "execution_count": null,
   "metadata": {
    "collapsed": false
   },
   "outputs": [],
   "source": []
  },
  {
   "cell_type": "code",
   "execution_count": null,
   "metadata": {
    "collapsed": true
   },
   "outputs": [],
   "source": []
  },
  {
   "cell_type": "code",
   "execution_count": null,
   "metadata": {
    "collapsed": true
   },
   "outputs": [],
   "source": []
  },
  {
   "cell_type": "code",
   "execution_count": null,
   "metadata": {
    "collapsed": true
   },
   "outputs": [],
   "source": []
  }
 ],
 "metadata": {
  "kernelspec": {
   "display_name": "Python [default]",
   "language": "python",
   "name": "python3"
  },
  "language_info": {
   "codemirror_mode": {
    "name": "ipython",
    "version": 3
   },
   "file_extension": ".py",
   "mimetype": "text/x-python",
   "name": "python",
   "nbconvert_exporter": "python",
   "pygments_lexer": "ipython3",
   "version": "3.5.2"
  }
 },
 "nbformat": 4,
 "nbformat_minor": 1
}
