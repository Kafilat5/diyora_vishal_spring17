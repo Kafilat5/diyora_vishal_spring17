{
 "cells": [
  {
   "cell_type": "markdown",
   "metadata": {},
   "source": [
    "# Analysis 5 \n",
    "### Plotting the Choropleth US Maps using Plot.ly and Bokeh\n",
    "\n",
    "1. Zillow DataSetCleaning the Data.\n",
    "2. State Code to the Name of the State.\n",
    "3. Plott Choropleth US Rental by State"
   ]
  },
  {
   "cell_type": "code",
   "execution_count": 2,
   "metadata": {
    "collapsed": true
   },
   "outputs": [],
   "source": [
    "# Importing all the necessary files\n",
    "import numpy as np\n",
    "import pandas as pd\n",
    "import matplotlib.pyplot as plt\n",
    "from matplotlib import pylab\n",
    "from scipy.stats import norm\n",
    "import matplotlib.mlab as mlab\n",
    "import seaborn as sns\n",
    "import re\n",
    "%matplotlib inline"
   ]
  },
  {
   "cell_type": "markdown",
   "metadata": {},
   "source": [
    "### Offline Plotly Usage"
   ]
  },
  {
   "cell_type": "markdown",
   "metadata": {},
   "source": [
    "Get imports and set everything up to be working offline."
   ]
  },
  {
   "cell_type": "code",
   "execution_count": 3,
   "metadata": {
    "collapsed": true
   },
   "outputs": [],
   "source": [
    "import plotly.plotly as py\n",
    "import plotly.graph_objs as go \n",
    "from plotly.offline import download_plotlyjs, init_notebook_mode, plot, iplot"
   ]
  },
  {
   "cell_type": "markdown",
   "metadata": {},
   "source": [
    "Now set up everything so that the figures show up in the notebook:"
   ]
  },
  {
   "cell_type": "code",
   "execution_count": 4,
   "metadata": {
    "collapsed": false
   },
   "outputs": [
    {
     "data": {
      "text/html": [
       "<script>requirejs.config({paths: { 'plotly': ['https://cdn.plot.ly/plotly-latest.min']},});if(!window.Plotly) {{require(['plotly'],function(plotly) {window.Plotly=plotly;});}}</script>"
      ],
      "text/plain": [
       "<IPython.core.display.HTML object>"
      ]
     },
     "metadata": {},
     "output_type": "display_data"
    }
   ],
   "source": [
    "init_notebook_mode(connected=True) "
   ]
  },
  {
   "cell_type": "markdown",
   "metadata": {},
   "source": [
    "## Install plot.ly offline\n",
    "More info on other options for Offline Plotly usage can be found [here](https://plot.ly/python/offline/)."
   ]
  },
  {
   "cell_type": "markdown",
   "metadata": {},
   "source": [
    "## Choropleth US Maps\n",
    "​"
   ]
  },
  {
   "cell_type": "markdown",
   "metadata": {},
   "source": [
    "##### Dictonary to Convert State Name to State Code "
   ]
  },
  {
   "cell_type": "code",
   "execution_count": 5,
   "metadata": {
    "collapsed": true
   },
   "outputs": [],
   "source": [
    "us_state_abbrev = {\n",
    "    'Alabama': 'AL',\n",
    "    'Alaska': 'AK',\n",
    "    'Arizona': 'AZ',\n",
    "    'Arkansas': 'AR',\n",
    "    'California': 'CA',\n",
    "    'Colorado': 'CO',\n",
    "    'Connecticut': 'CT',\n",
    "    'Delaware': 'DE',\n",
    "    'Florida': 'FL',\n",
    "    'Georgia': 'GA',\n",
    "    'Hawaii': 'HI',\n",
    "    'Idaho': 'ID',\n",
    "    'Illinois': 'IL',\n",
    "    'Indiana': 'IN',\n",
    "    'Iowa': 'IA',\n",
    "    'Kansas': 'KS',\n",
    "    'Kentucky': 'KY',\n",
    "    'Louisiana': 'LA',\n",
    "    'Maine': 'ME',\n",
    "    'Maryland': 'MD',\n",
    "    'Massachusetts': 'MA',\n",
    "    'Michigan': 'MI',\n",
    "    'Minnesota': 'MN',\n",
    "    'Mississippi': 'MS',\n",
    "    'Missouri': 'MO',\n",
    "    'Montana': 'MT',\n",
    "    'Nebraska': 'NE',\n",
    "    'Nevada': 'NV',\n",
    "    'New Hampshire': 'NH',\n",
    "    'New Jersey': 'NJ',\n",
    "    'New Mexico': 'NM',\n",
    "    'New York': 'NY',\n",
    "    'North Carolina': 'NC',\n",
    "    'North Dakota': 'ND',\n",
    "    'Ohio': 'OH',\n",
    "    'Oklahoma': 'OK',\n",
    "    'Oregon': 'OR',\n",
    "    'Pennsylvania': 'PA',\n",
    "    'Rhode Island': 'RI',\n",
    "    'South Carolina': 'SC',\n",
    "    'South Dakota': 'SD',\n",
    "    'Tennessee': 'TN',\n",
    "    'Texas': 'TX',\n",
    "    'Utah': 'UT',\n",
    "    'Vermont': 'VT',\n",
    "    'Virginia': 'VA',\n",
    "    'Washington': 'WA',\n",
    "    'West Virginia': 'WV',\n",
    "    'Wisconsin': 'WI',\n",
    "    'Wyoming': 'WY',\n",
    "    'District of Columbia':'DC'\n",
    "}"
   ]
  },
  {
   "cell_type": "markdown",
   "metadata": {},
   "source": [
    "1. Loading data to from State _zillowdata_ in that State_MedianRentalPrice_AllHomes.csv.\n",
    "2. Renaming the state name to code."
   ]
  },
  {
   "cell_type": "code",
   "execution_count": 6,
   "metadata": {
    "collapsed": false
   },
   "outputs": [
    {
     "data": {
      "text/html": [
       "<div>\n",
       "<table border=\"1\" class=\"dataframe\">\n",
       "  <thead>\n",
       "    <tr style=\"text-align: right;\">\n",
       "      <th></th>\n",
       "      <th>RegionName</th>\n",
       "      <th>SizeRank</th>\n",
       "      <th>2010-01</th>\n",
       "      <th>2010-02</th>\n",
       "      <th>2010-03</th>\n",
       "      <th>2010-04</th>\n",
       "      <th>2010-05</th>\n",
       "      <th>2010-06</th>\n",
       "      <th>2010-07</th>\n",
       "      <th>2010-08</th>\n",
       "      <th>...</th>\n",
       "      <th>2016-05</th>\n",
       "      <th>2016-06</th>\n",
       "      <th>2016-07</th>\n",
       "      <th>2016-08</th>\n",
       "      <th>2016-09</th>\n",
       "      <th>2016-10</th>\n",
       "      <th>2016-11</th>\n",
       "      <th>2016-12</th>\n",
       "      <th>2017-01</th>\n",
       "      <th>2017-02</th>\n",
       "    </tr>\n",
       "  </thead>\n",
       "  <tbody>\n",
       "    <tr>\n",
       "      <th>0</th>\n",
       "      <td>CA</td>\n",
       "      <td>1</td>\n",
       "      <td>NaN</td>\n",
       "      <td>NaN</td>\n",
       "      <td>2400.0</td>\n",
       "      <td>2400.0</td>\n",
       "      <td>2400.0</td>\n",
       "      <td>2495.0</td>\n",
       "      <td>2500.0</td>\n",
       "      <td>2600.0</td>\n",
       "      <td>...</td>\n",
       "      <td>2395.0</td>\n",
       "      <td>2395.0</td>\n",
       "      <td>2400.0</td>\n",
       "      <td>2380.0</td>\n",
       "      <td>2395</td>\n",
       "      <td>2350.0</td>\n",
       "      <td>2400</td>\n",
       "      <td>2300.0</td>\n",
       "      <td>2400.0</td>\n",
       "      <td>2500.0</td>\n",
       "    </tr>\n",
       "    <tr>\n",
       "      <th>1</th>\n",
       "      <td>TX</td>\n",
       "      <td>2</td>\n",
       "      <td>NaN</td>\n",
       "      <td>NaN</td>\n",
       "      <td>NaN</td>\n",
       "      <td>NaN</td>\n",
       "      <td>NaN</td>\n",
       "      <td>NaN</td>\n",
       "      <td>NaN</td>\n",
       "      <td>NaN</td>\n",
       "      <td>...</td>\n",
       "      <td>1400.0</td>\n",
       "      <td>1420.0</td>\n",
       "      <td>1430.0</td>\n",
       "      <td>1412.0</td>\n",
       "      <td>1400</td>\n",
       "      <td>1395.0</td>\n",
       "      <td>1400</td>\n",
       "      <td>1375.0</td>\n",
       "      <td>1425.0</td>\n",
       "      <td>1450.0</td>\n",
       "    </tr>\n",
       "    <tr>\n",
       "      <th>2</th>\n",
       "      <td>NY</td>\n",
       "      <td>3</td>\n",
       "      <td>NaN</td>\n",
       "      <td>NaN</td>\n",
       "      <td>NaN</td>\n",
       "      <td>NaN</td>\n",
       "      <td>NaN</td>\n",
       "      <td>NaN</td>\n",
       "      <td>NaN</td>\n",
       "      <td>NaN</td>\n",
       "      <td>...</td>\n",
       "      <td>3300.0</td>\n",
       "      <td>3095.0</td>\n",
       "      <td>3000.0</td>\n",
       "      <td>3000.0</td>\n",
       "      <td>2950</td>\n",
       "      <td>2975.0</td>\n",
       "      <td>2895</td>\n",
       "      <td>2850.0</td>\n",
       "      <td>2899.0</td>\n",
       "      <td>2995.0</td>\n",
       "    </tr>\n",
       "    <tr>\n",
       "      <th>3</th>\n",
       "      <td>FL</td>\n",
       "      <td>4</td>\n",
       "      <td>NaN</td>\n",
       "      <td>NaN</td>\n",
       "      <td>NaN</td>\n",
       "      <td>NaN</td>\n",
       "      <td>NaN</td>\n",
       "      <td>NaN</td>\n",
       "      <td>NaN</td>\n",
       "      <td>NaN</td>\n",
       "      <td>...</td>\n",
       "      <td>1695.0</td>\n",
       "      <td>1670.0</td>\n",
       "      <td>1600.0</td>\n",
       "      <td>1600.0</td>\n",
       "      <td>1600</td>\n",
       "      <td>1600.0</td>\n",
       "      <td>1750</td>\n",
       "      <td>1595.0</td>\n",
       "      <td>1600.0</td>\n",
       "      <td>1650.0</td>\n",
       "    </tr>\n",
       "    <tr>\n",
       "      <th>4</th>\n",
       "      <td>IL</td>\n",
       "      <td>5</td>\n",
       "      <td>1600.0</td>\n",
       "      <td>1500.0</td>\n",
       "      <td>1500.0</td>\n",
       "      <td>1500.0</td>\n",
       "      <td>1500.0</td>\n",
       "      <td>1500.0</td>\n",
       "      <td>1500.0</td>\n",
       "      <td>1500.0</td>\n",
       "      <td>...</td>\n",
       "      <td>1600.0</td>\n",
       "      <td>1600.0</td>\n",
       "      <td>1600.0</td>\n",
       "      <td>1595.0</td>\n",
       "      <td>1550</td>\n",
       "      <td>1550.0</td>\n",
       "      <td>1549</td>\n",
       "      <td>1525.0</td>\n",
       "      <td>1500.0</td>\n",
       "      <td>1536.0</td>\n",
       "    </tr>\n",
       "  </tbody>\n",
       "</table>\n",
       "<p>5 rows × 88 columns</p>\n",
       "</div>"
      ],
      "text/plain": [
       "  RegionName  SizeRank  2010-01  2010-02  2010-03  2010-04  2010-05  2010-06  \\\n",
       "0         CA         1      NaN      NaN   2400.0   2400.0   2400.0   2495.0   \n",
       "1         TX         2      NaN      NaN      NaN      NaN      NaN      NaN   \n",
       "2         NY         3      NaN      NaN      NaN      NaN      NaN      NaN   \n",
       "3         FL         4      NaN      NaN      NaN      NaN      NaN      NaN   \n",
       "4         IL         5   1600.0   1500.0   1500.0   1500.0   1500.0   1500.0   \n",
       "\n",
       "   2010-07  2010-08   ...     2016-05  2016-06  2016-07  2016-08  2016-09  \\\n",
       "0   2500.0   2600.0   ...      2395.0   2395.0   2400.0   2380.0     2395   \n",
       "1      NaN      NaN   ...      1400.0   1420.0   1430.0   1412.0     1400   \n",
       "2      NaN      NaN   ...      3300.0   3095.0   3000.0   3000.0     2950   \n",
       "3      NaN      NaN   ...      1695.0   1670.0   1600.0   1600.0     1600   \n",
       "4   1500.0   1500.0   ...      1600.0   1600.0   1600.0   1595.0     1550   \n",
       "\n",
       "   2016-10  2016-11  2016-12  2017-01  2017-02  \n",
       "0   2350.0     2400   2300.0   2400.0   2500.0  \n",
       "1   1395.0     1400   1375.0   1425.0   1450.0  \n",
       "2   2975.0     2895   2850.0   2899.0   2995.0  \n",
       "3   1600.0     1750   1595.0   1600.0   1650.0  \n",
       "4   1550.0     1549   1525.0   1500.0   1536.0  \n",
       "\n",
       "[5 rows x 88 columns]"
      ]
     },
     "execution_count": 6,
     "metadata": {},
     "output_type": "execute_result"
    }
   ],
   "source": [
    "df = pd.read_csv('Data/CSV/State_MedianRentalPrice_AllHomes.csv')\n",
    "df['RegionName']=df['RegionName'].replace(us_state_abbrev)\n",
    "df.head()"
   ]
  },
  {
   "cell_type": "code",
   "execution_count": null,
   "metadata": {
    "collapsed": true
   },
   "outputs": [],
   "source": []
  },
  {
   "cell_type": "code",
   "execution_count": 7,
   "metadata": {
    "collapsed": false
   },
   "outputs": [],
   "source": [
    "# It is the color used as scl list the different rgb colors \n",
    "scl = [[0.0, 'rgb(242,240,247)'],[0.2, 'rgb(218,218,235)'],[0.4, 'rgb(188,189,220)'],\\\n",
    "            [0.6, 'rgb(158,154,200)'],[0.8, 'rgb(117,107,177)'],[1.0, 'rgb(84,39,143)']]\n",
    "#Loading data as dict where location is the dataframe RegionName \n",
    "#Using January 2017 data as value and ploting the map on state basis.\n",
    "data = dict(type='choropleth',\n",
    "            colorscale = scl,\n",
    "            locations = df['RegionName'],\n",
    "            z = df['2017-01'],\n",
    "            locationmode = 'USA-states',\n",
    "#             text = df['2016-12'],\n",
    "            marker = dict(line = dict(color = 'rgb(255,255,255)',width = 2)),\n",
    "            colorbar = {'title':\"Sqrt USD\"}\n",
    "            ) "
   ]
  },
  {
   "cell_type": "code",
   "execution_count": 8,
   "metadata": {
    "collapsed": true
   },
   "outputs": [],
   "source": [
    "#Setting the layout to and giving title \n",
    "layout = dict(title = ' January 2017 Median Rental Price of All Home by State',\n",
    "              geo = dict(scope='usa',\n",
    "                         lakecolor = 'rgb(85,173,240)')\n",
    "             )"
   ]
  },
  {
   "cell_type": "code",
   "execution_count": 9,
   "metadata": {
    "collapsed": false
   },
   "outputs": [],
   "source": [
    "choromap = go.Figure(data = [data],layout = layout)"
   ]
  },
  {
   "cell_type": "code",
   "execution_count": 10,
   "metadata": {
    "collapsed": false
   },
   "outputs": [
    {
     "data": {
      "text/html": [
       "<div id=\"7497e8d1-eec2-4d4b-9a6f-56da0dc02253\" style=\"height: 525px; width: 100%;\" class=\"plotly-graph-div\"></div><script type=\"text/javascript\">require([\"plotly\"], function(Plotly) { window.PLOTLYENV=window.PLOTLYENV || {};window.PLOTLYENV.BASE_URL=\"https://plot.ly\";Plotly.newPlot(\"7497e8d1-eec2-4d4b-9a6f-56da0dc02253\", [{\"z\": [2400.0, 1425.0, 2899.0, 1600.0, 1500.0, 1250.0, 975.0, 1000.0, 1225.0, 1200.0, 1800.0, 1550.0, 1775.0, 2482.0, 995.0, 1250.0, 1195.0, 900.0, 1650.0, 1150.0, 1450.0, 1700.0, 975.0, 1225.0, 1200.0, 1000.0, 1595.0, 995.0, 1600.0, 1029.0, 1000.0, 975.0, 1000.0, 1300.0, 1295.0, 1132.5, 1000.0, 1095.0, 2200.0, 1395.0, 1500.0, 1750.0, 1095.0, 1295.0, 995.0, 1575.0, 1200.0, 2500.0, 1050.0], \"colorscale\": [[0.0, \"rgb(242,240,247)\"], [0.2, \"rgb(218,218,235)\"], [0.4, \"rgb(188,189,220)\"], [0.6, \"rgb(158,154,200)\"], [0.8, \"rgb(117,107,177)\"], [1.0, \"rgb(84,39,143)\"]], \"locationmode\": \"USA-states\", \"marker\": {\"line\": {\"width\": 2, \"color\": \"rgb(255,255,255)\"}}, \"type\": \"choropleth\", \"colorbar\": {\"title\": \"Sqrt USD\"}, \"locations\": [\"CA\", \"TX\", \"NY\", \"FL\", \"IL\", \"PA\", \"OH\", \"MI\", \"GA\", \"NC\", \"NJ\", \"VA\", \"WA\", \"MA\", \"IN\", \"AZ\", \"TN\", \"MO\", \"MD\", \"WI\", \"MN\", \"CO\", \"AL\", \"SC\", \"LA\", \"KY\", \"OR\", \"OK\", \"CT\", \"IA\", \"MS\", \"AR\", \"KS\", \"UT\", \"NV\", \"NM\", \"WV\", \"ID\", \"HI\", \"ME\", \"NH\", \"RI\", \"MT\", \"DE\", \"SD\", \"AK\", \"ND\", \"DC\", \"WY\"]}], {\"geo\": {\"scope\": \"usa\", \"lakecolor\": \"rgb(85,173,240)\"}, \"title\": \" January 2017 Median Rental Price of All Home by State\"}, {\"showLink\": true, \"linkText\": \"Export to plot.ly\"})});</script>"
      ],
      "text/plain": [
       "<IPython.core.display.HTML object>"
      ]
     },
     "metadata": {},
     "output_type": "display_data"
    },
    {
     "data": {
      "text/plain": [
       "<matplotlib.figure.Figure at 0x115dff390>"
      ]
     },
     "metadata": {},
     "output_type": "display_data"
    }
   ],
   "source": [
    "#Plotting the map\n",
    "iplot(choromap)"
   ]
  },
  {
   "cell_type": "markdown",
   "metadata": {},
   "source": [
    "# Above I have shown the data Choropleth Maps\n",
    "# Here I will show the data as per the county and will plot as per the County Median Listin Price of AllHouse on January 2017"
   ]
  },
  {
   "cell_type": "code",
   "execution_count": 11,
   "metadata": {
    "collapsed": false
   },
   "outputs": [],
   "source": [
    "#Importing the bookeh plotting and require file\n",
    "from bokeh.plotting import figure, show, output_file\n",
    "from bokeh.sampledata.us_counties import data as counties\n",
    "from bokeh.sampledata.us_states import data as states\n",
    "from bokeh.palettes import viridis #To get the different color "
   ]
  },
  {
   "cell_type": "code",
   "execution_count": 12,
   "metadata": {
    "collapsed": false
   },
   "outputs": [
    {
     "data": {
      "text/html": [
       "<div>\n",
       "<table border=\"1\" class=\"dataframe\">\n",
       "  <thead>\n",
       "    <tr style=\"text-align: right;\">\n",
       "      <th></th>\n",
       "      <th>RegionName</th>\n",
       "      <th>State</th>\n",
       "      <th>StateCodeFIPS</th>\n",
       "      <th>MunicipalCodeFIPS</th>\n",
       "      <th>2017-01</th>\n",
       "    </tr>\n",
       "  </thead>\n",
       "  <tbody>\n",
       "    <tr>\n",
       "      <th>0</th>\n",
       "      <td>Los Angeles</td>\n",
       "      <td>CA</td>\n",
       "      <td>6</td>\n",
       "      <td>37</td>\n",
       "      <td>595000.0</td>\n",
       "    </tr>\n",
       "    <tr>\n",
       "      <th>1</th>\n",
       "      <td>Cook</td>\n",
       "      <td>IL</td>\n",
       "      <td>17</td>\n",
       "      <td>31</td>\n",
       "      <td>229900.0</td>\n",
       "    </tr>\n",
       "    <tr>\n",
       "      <th>2</th>\n",
       "      <td>Harris</td>\n",
       "      <td>TX</td>\n",
       "      <td>48</td>\n",
       "      <td>201</td>\n",
       "      <td>259900.0</td>\n",
       "    </tr>\n",
       "    <tr>\n",
       "      <th>3</th>\n",
       "      <td>Maricopa</td>\n",
       "      <td>AZ</td>\n",
       "      <td>4</td>\n",
       "      <td>13</td>\n",
       "      <td>285000.0</td>\n",
       "    </tr>\n",
       "    <tr>\n",
       "      <th>4</th>\n",
       "      <td>San Diego</td>\n",
       "      <td>CA</td>\n",
       "      <td>6</td>\n",
       "      <td>73</td>\n",
       "      <td>579000.0</td>\n",
       "    </tr>\n",
       "  </tbody>\n",
       "</table>\n",
       "</div>"
      ],
      "text/plain": [
       "    RegionName State  StateCodeFIPS  MunicipalCodeFIPS   2017-01\n",
       "0  Los Angeles    CA              6                 37  595000.0\n",
       "1         Cook    IL             17                 31  229900.0\n",
       "2       Harris    TX             48                201  259900.0\n",
       "3     Maricopa    AZ              4                 13  285000.0\n",
       "4    San Diego    CA              6                 73  579000.0"
      ]
     },
     "execution_count": 12,
     "metadata": {},
     "output_type": "execute_result"
    }
   ],
   "source": [
    "zillow=pd.read_csv('Data/CSV/County_MedianListingPrice_AllHomes.csv')\n",
    "zillow=zillow.fillna(value=10000)\n",
    "\n",
    "zillow[['RegionName','State','StateCodeFIPS','MunicipalCodeFIPS','2017-01']].head()"
   ]
  },
  {
   "cell_type": "code",
   "execution_count": 15,
   "metadata": {
    "collapsed": false
   },
   "outputs": [
    {
     "name": "stderr",
     "output_type": "stream",
     "text": [
      "/Users/vishaldiyora/anaconda5/lib/python3.5/site-packages/ipykernel/__main__.py:36: VisibleDeprecationWarning:\n",
      "\n",
      "converting an array with ndim > 0 to an index will result in an error in the future\n",
      "\n",
      "/Users/vishaldiyora/anaconda5/lib/python3.5/site-packages/bokeh/models/sources.py:89: BokehUserWarning:\n",
      "\n",
      "ColumnDataSource's columns must be of the same length\n",
      "\n"
     ]
    }
   ],
   "source": [
    "#Want to exclude this two states otherwise the map will be bigger and not able to see that properly\n",
    "del states[\"HI\"]\n",
    "del states[\"AK\"]\n",
    "#Reversing color because it giving darker to lighter Requires lighter to darker\n",
    "colors=viridis(45)\n",
    "color_u=[]\n",
    "for z in reversed(colors):\n",
    "    color_u.append(z)\n",
    "#Colour_u have different combination of 45 colors code.\n",
    "\n",
    "\n",
    "EXCLUDED = (\"ak\", \"hi\", \"pr\", \"gu\", \"vi\", \"mp\", \"as\")\n",
    "\n",
    "#Getting longitude and latitude of states to plot.\n",
    "state_xs = [states[code][\"lons\"] for code in states]\n",
    "state_ys = [states[code][\"lats\"] for code in states]\n",
    "\n",
    "#Getting longitude and latitude of counties to plot.\n",
    "county_xs=[counties[code][\"lons\"] for code in counties if counties[code][\"state\"] not in EXCLUDED]\n",
    "county_ys=[counties[code][\"lats\"] for code in counties if counties[code][\"state\"] not in EXCLUDED]\n",
    "\n",
    "county_colors = []\n",
    "#Counties have two values one with the state code and other with county code within that state so comparing and not including the other states.\n",
    "for a,b in counties:\n",
    "    if zillow[(zillow['StateCodeFIPS'] ==a) & (zillow['MunicipalCodeFIPS']==b)]['State'].values in EXCLUDED:\n",
    "        continue\n",
    "    try:\n",
    "#     #here comparing and getting the value of January 2017 Median Listing Price\n",
    "        rate = zillow[(zillow['StateCodeFIPS'] ==a) & (zillow['MunicipalCodeFIPS']==b)]['2017-01']\n",
    "        #Diving by lowest to get the lowest value and can get the colorcode as it\n",
    "        idx=rate/55950\n",
    "        xaaaa=idx.values.astype(np.int64)\n",
    "        if not xaaaa:\n",
    "            county_colors.append(color_u[0])\n",
    "        else:\n",
    "            county_colors.append(color_u[xaaaa])\n",
    "    except KeyError:\n",
    "        county_colors.append(\"black\")\n",
    "        \n",
    "p = figure(title=\"MedianSoldPrice January 2017\", toolbar_location=\"left\",\n",
    "           plot_width=800, plot_height=500)\n",
    "\n",
    "\n",
    "p.patches(county_xs, county_ys,\n",
    "          fill_color=county_colors, fill_alpha=0.7,\n",
    "          line_color=\"white\", line_width=0.5)\n",
    "\n",
    "\n",
    "p.patches(state_xs, state_ys, fill_alpha=0.0,\n",
    "          line_color=\"#1B1530\", line_width=2, line_alpha=0.3)\n",
    "\n",
    "output_file(\"US-MedianPrice Jan 2017.html\", title=\"US-MedianPrice Jan 2017.py example\")\n",
    "\n",
    "show(p)"
   ]
  },
  {
   "cell_type": "code",
   "execution_count": null,
   "metadata": {
    "collapsed": true
   },
   "outputs": [],
   "source": []
  }
 ],
 "metadata": {
  "anaconda-cloud": {},
  "kernelspec": {
   "display_name": "Python [conda root]",
   "language": "python",
   "name": "conda-root-py"
  },
  "language_info": {
   "codemirror_mode": {
    "name": "ipython",
    "version": 3
   },
   "file_extension": ".py",
   "mimetype": "text/x-python",
   "name": "python",
   "nbconvert_exporter": "python",
   "pygments_lexer": "ipython3",
   "version": "3.5.2"
  }
 },
 "nbformat": 4,
 "nbformat_minor": 1
}
