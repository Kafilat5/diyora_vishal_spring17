{
 "cells": [
  {
   "cell_type": "markdown",
   "metadata": {},
   "source": [
    "# Analysis 1\n",
    "### Trying to find out\n",
    "---\n",
    "\n",
    "## Does University towns have their mean housing prices less effected by recessions?\n",
    "---"
   ]
  },
  {
   "cell_type": "code",
   "execution_count": 17,
   "metadata": {
    "collapsed": false
   },
   "outputs": [],
   "source": [
    "import pandas as pd\n",
    "import numpy as np\n",
    "import re\n",
    "from scipy import stats\n",
    "from scipy.stats import ttest_ind\n",
    "from matplotlib import pylab, mlab, pyplot\n",
    "import seaborn as sns"
   ]
  },
  {
   "cell_type": "code",
   "execution_count": null,
   "metadata": {
    "collapsed": true
   },
   "outputs": [],
   "source": []
  },
  {
   "cell_type": "markdown",
   "metadata": {},
   "source": [
    "The following data files is Used:\n",
    "* From the [Zillow research data site](http://www.zillow.com/research/data/) there is housing data for the United States. In particular the datafile for [all homes at a city level](http://files.zillowstatic.com/research/public/City/City_Zhvi_AllHomes.csv), ```City_Zhvi_AllHomes.csv```, has median home sale prices at a fine grained level.\n",
    "* From the Wikipedia page on college towns is a list of [university towns in the United States](https://en.wikipedia.org/wiki/List_of_college_towns#College_towns_in_the_United_States) which has been copy and pasted into the file ```university_towns.txt```.\n",
    "* From Bureau of Economic Analysis, US Department of Commerce, the [GDP over time](http://www.bea.gov/national/index.htm#gdp) of the United States in current dollars (use the chained value in 2009 dollars), in quarterly intervals, in the file ```gdplev.xls```. "
   ]
  },
  {
   "cell_type": "code",
   "execution_count": 18,
   "metadata": {
    "collapsed": true
   },
   "outputs": [],
   "source": [
    "us_state_abbrev = {\n",
    "    'Alabama': 'AL',\n",
    "    'Alaska': 'AK',\n",
    "    'Arizona': 'AZ',\n",
    "    'Arkansas': 'AR',\n",
    "    'California': 'CA',\n",
    "    'Colorado': 'CO',\n",
    "    'Connecticut': 'CT',\n",
    "    'Delaware': 'DE',\n",
    "    'Florida': 'FL',\n",
    "    'Georgia': 'GA',\n",
    "    'Hawaii': 'HI',\n",
    "    'Idaho': 'ID',\n",
    "    'Illinois': 'IL',\n",
    "    'Indiana': 'IN',\n",
    "    'Iowa': 'IA',\n",
    "    'Kansas': 'KS',\n",
    "    'Kentucky': 'KY',\n",
    "    'Louisiana': 'LA',\n",
    "    'Maine': 'ME',\n",
    "    'Maryland': 'MD',\n",
    "    'Massachusetts': 'MA',\n",
    "    'Michigan': 'MI',\n",
    "    'Minnesota': 'MN',\n",
    "    'Mississippi': 'MS',\n",
    "    'Missouri': 'MO',\n",
    "    'Montana': 'MT',\n",
    "    'Nebraska': 'NE',\n",
    "    'Nevada': 'NV',\n",
    "    'New Hampshire': 'NH',\n",
    "    'New Jersey': 'NJ',\n",
    "    'New Mexico': 'NM',\n",
    "    'New York': 'NY',\n",
    "    'North Carolina': 'NC',\n",
    "    'North Dakota': 'ND',\n",
    "    'Ohio': 'OH',\n",
    "    'Oklahoma': 'OK',\n",
    "    'Oregon': 'OR',\n",
    "    'Pennsylvania': 'PA',\n",
    "    'Rhode Island': 'RI',\n",
    "    'South Carolina': 'SC',\n",
    "    'South Dakota': 'SD',\n",
    "    'Tennessee': 'TN',\n",
    "    'Texas': 'TX',\n",
    "    'Utah': 'UT',\n",
    "    'Vermont': 'VT',\n",
    "    'Virginia': 'VA',\n",
    "    'Washington': 'WA',\n",
    "    'West Virginia': 'WV',\n",
    "    'Wisconsin': 'WI',\n",
    "    'Wyoming': 'WY',\n",
    "    'District of Columbia':'DC'\n",
    "}"
   ]
  },
  {
   "cell_type": "code",
   "execution_count": 19,
   "metadata": {
    "collapsed": false
   },
   "outputs": [],
   "source": [
    "# This dictionary to map state names to two letter acronyms\n",
    "states = {'OH': 'Ohio', 'KY': 'Kentucky', 'AS': 'American Samoa', 'NV': 'Nevada', 'WY': 'Wyoming', 'NA': 'National', 'AL': 'Alabama', 'MD': 'Maryland', 'AK': 'Alaska', 'UT': 'Utah', 'OR': 'Oregon', 'MT': 'Montana', 'IL': 'Illinois', 'TN': 'Tennessee', 'DC': 'District of Columbia', 'VT': 'Vermont', 'ID': 'Idaho', 'AR': 'Arkansas', 'ME': 'Maine', 'WA': 'Washington', 'HI': 'Hawaii', 'WI': 'Wisconsin', 'MI': 'Michigan', 'IN': 'Indiana', 'NJ': 'New Jersey', 'AZ': 'Arizona', 'GU': 'Guam', 'MS': 'Mississippi', 'PR': 'Puerto Rico', 'NC': 'North Carolina', 'TX': 'Texas', 'SD': 'South Dakota', 'MP': 'Northern Mariana Islands', 'IA': 'Iowa', 'MO': 'Missouri', 'CT': 'Connecticut', 'WV': 'West Virginia', 'SC': 'South Carolina', 'LA': 'Louisiana', 'KS': 'Kansas', 'NY': 'New York', 'NE': 'Nebraska', 'OK': 'Oklahoma', 'FL': 'Florida', 'CA': 'California', 'CO': 'Colorado', 'PA': 'Pennsylvania', 'DE': 'Delaware', 'NM': 'New Mexico', 'RI': 'Rhode Island', 'MN': 'Minnesota', 'VI': 'Virgin Islands', 'NH': 'New Hampshire', 'MA': 'Massachusetts', 'GA': 'Georgia', 'ND': 'North Dakota', 'VA': 'Virginia'}"
   ]
  },
  {
   "cell_type": "code",
   "execution_count": 20,
   "metadata": {
    "collapsed": false
   },
   "outputs": [
    {
     "data": {
      "text/html": [
       "<div>\n",
       "<table border=\"1\" class=\"dataframe\">\n",
       "  <thead>\n",
       "    <tr style=\"text-align: right;\">\n",
       "      <th></th>\n",
       "      <th>Alabama[edit]</th>\n",
       "    </tr>\n",
       "  </thead>\n",
       "  <tbody>\n",
       "    <tr>\n",
       "      <th>0</th>\n",
       "      <td>Auburn (Auburn University)[1]</td>\n",
       "    </tr>\n",
       "    <tr>\n",
       "      <th>1</th>\n",
       "      <td>Florence (University of North Alabama)</td>\n",
       "    </tr>\n",
       "    <tr>\n",
       "      <th>2</th>\n",
       "      <td>Jacksonville (Jacksonville State University)[2]</td>\n",
       "    </tr>\n",
       "    <tr>\n",
       "      <th>3</th>\n",
       "      <td>Livingston (University of West Alabama)[2]</td>\n",
       "    </tr>\n",
       "    <tr>\n",
       "      <th>4</th>\n",
       "      <td>Montevallo (University of Montevallo)[2]</td>\n",
       "    </tr>\n",
       "  </tbody>\n",
       "</table>\n",
       "</div>"
      ],
      "text/plain": [
       "                                     Alabama[edit]\n",
       "0                    Auburn (Auburn University)[1]\n",
       "1           Florence (University of North Alabama)\n",
       "2  Jacksonville (Jacksonville State University)[2]\n",
       "3       Livingston (University of West Alabama)[2]\n",
       "4         Montevallo (University of Montevallo)[2]"
      ]
     },
     "execution_count": 20,
     "metadata": {},
     "output_type": "execute_result"
    }
   ],
   "source": [
    "#Loading file to data frame.\n",
    "university_towns=pd.read_table('Data/txt/university_towns.txt')\n",
    "university_towns.head()"
   ]
  },
  {
   "cell_type": "markdown",
   "metadata": {},
   "source": [
    "### As in the university_towns.txt the following cleaning needs to be done:\n",
    "    1. For 'State' Removing characters from '[' to the end \n",
    "    2. For 'RegionName', removing every character from \" (\" to the end.\n",
    "    3. May need to remove newline character '\\n'"
   ]
  },
  {
   "cell_type": "code",
   "execution_count": 21,
   "metadata": {
    "collapsed": false
   },
   "outputs": [
    {
     "data": {
      "text/html": [
       "<div>\n",
       "<table border=\"1\" class=\"dataframe\">\n",
       "  <thead>\n",
       "    <tr style=\"text-align: right;\">\n",
       "      <th></th>\n",
       "      <th>State</th>\n",
       "      <th>RegionName</th>\n",
       "    </tr>\n",
       "  </thead>\n",
       "  <tbody>\n",
       "    <tr>\n",
       "      <th>0</th>\n",
       "      <td>Alabama</td>\n",
       "      <td>Auburn</td>\n",
       "    </tr>\n",
       "    <tr>\n",
       "      <th>1</th>\n",
       "      <td>Alabama</td>\n",
       "      <td>Florence</td>\n",
       "    </tr>\n",
       "    <tr>\n",
       "      <th>2</th>\n",
       "      <td>Alabama</td>\n",
       "      <td>Jacksonville</td>\n",
       "    </tr>\n",
       "    <tr>\n",
       "      <th>3</th>\n",
       "      <td>Alabama</td>\n",
       "      <td>Livingston</td>\n",
       "    </tr>\n",
       "    <tr>\n",
       "      <th>4</th>\n",
       "      <td>Alabama</td>\n",
       "      <td>Montevallo</td>\n",
       "    </tr>\n",
       "  </tbody>\n",
       "</table>\n",
       "</div>"
      ],
      "text/plain": [
       "     State    RegionName\n",
       "0  Alabama        Auburn\n",
       "1  Alabama      Florence\n",
       "2  Alabama  Jacksonville\n",
       "3  Alabama    Livingston\n",
       "4  Alabama    Montevallo"
      ]
     },
     "execution_count": 21,
     "metadata": {},
     "output_type": "execute_result"
    }
   ],
   "source": [
    "def get_list_of_university_towns():\n",
    "    \n",
    "    #Clean data remove [edit] from each state name\n",
    "    #Remove starting from( in the regionName\n",
    "    lst,state,statelist,region,regionlist=[],[],[],[],[]\n",
    "    with open('Data/txt/university_towns.txt') as f:\n",
    "        for line in f:\n",
    "            if '[ed' in line:\n",
    "                 #Clean data remove [edit] \n",
    "                state=re.sub(r'\\[.*\\]','',line).rstrip()\n",
    "            else:\n",
    "                if '(' in line:\n",
    "                     #Clean data remove [edit] \n",
    "                    region= line[:line.index('(')-1]\n",
    "                    region=re.sub(r\"\\(.*\\)\",\"\",region)\n",
    "                    region=re.sub(r\"\\[.*\\]\",\"\",region).rstrip()\n",
    "                else:\n",
    "                    #If ( is not their remove the \\n and white space so rstrip is used\n",
    "                    region=re.sub(r\"\\n\",\"\",line).rstrip()\n",
    "                #append every state name and region name to the list.\n",
    "                statelist.append(state)\n",
    "                regionlist.append(region)\n",
    "\n",
    "    d=pd.DataFrame({'State':statelist,'RegionName':regionlist})\n",
    "    d=d[['State','RegionName']]\n",
    "    return d\n",
    "a=get_list_of_university_towns()\n",
    "a.head()"
   ]
  },
  {
   "cell_type": "markdown",
   "metadata": {},
   "source": [
    "### For GDP\n",
    "Clean the GDP data and finding the following:\n",
    "\n",
    "    1.Recession Start quater   \n",
    "    2.Recession End quarter"
   ]
  },
  {
   "cell_type": "code",
   "execution_count": 22,
   "metadata": {
    "collapsed": false
   },
   "outputs": [
    {
     "data": {
      "text/html": [
       "<div>\n",
       "<table border=\"1\" class=\"dataframe\">\n",
       "  <thead>\n",
       "    <tr style=\"text-align: right;\">\n",
       "      <th></th>\n",
       "      <th>Quater</th>\n",
       "      <th>GDP</th>\n",
       "    </tr>\n",
       "  </thead>\n",
       "  <tbody>\n",
       "    <tr>\n",
       "      <th>212</th>\n",
       "      <td>2000q1</td>\n",
       "      <td>10031.0</td>\n",
       "    </tr>\n",
       "    <tr>\n",
       "      <th>213</th>\n",
       "      <td>2000q2</td>\n",
       "      <td>10278.3</td>\n",
       "    </tr>\n",
       "    <tr>\n",
       "      <th>214</th>\n",
       "      <td>2000q3</td>\n",
       "      <td>10357.4</td>\n",
       "    </tr>\n",
       "    <tr>\n",
       "      <th>215</th>\n",
       "      <td>2000q4</td>\n",
       "      <td>10472.3</td>\n",
       "    </tr>\n",
       "    <tr>\n",
       "      <th>216</th>\n",
       "      <td>2001q1</td>\n",
       "      <td>10508.1</td>\n",
       "    </tr>\n",
       "  </tbody>\n",
       "</table>\n",
       "</div>"
      ],
      "text/plain": [
       "     Quater      GDP\n",
       "212  2000q1  10031.0\n",
       "213  2000q2  10278.3\n",
       "214  2000q3  10357.4\n",
       "215  2000q4  10472.3\n",
       "216  2001q1  10508.1"
      ]
     },
     "execution_count": 22,
     "metadata": {},
     "output_type": "execute_result"
    }
   ],
   "source": [
    "#method for the clean of gdplev data \n",
    "def recession_clean_data():\n",
    "    #get the xls file\n",
    "    x=pd.ExcelFile('Data/CSV/GDP/gdplev.xls')\n",
    "    #skip the header file\n",
    "    recession=x.parse(skiprows=7)\n",
    "    \n",
    "    #take only Unnamed:4 and Unnamed:5 which contains Quater and GDP\n",
    "    recession=recession[['Unnamed: 4','Unnamed: 5']]\n",
    "    #rename this columns\n",
    "    recession.rename(columns={'Unnamed: 4':'Quater','Unnamed: 5':'GDP'},inplace=True)\n",
    "    \n",
    "    #get the index of the 2000q1 from where we need to analyzed the data\n",
    "    index_2000=recession[recession['Quater']=='2000q1'].index\n",
    "\n",
    "    # droping the data before 2000q1 data\n",
    "    recession.drop(recession.index[:index_2000.item()],inplace=True)\n",
    "    \n",
    "    return recession\n",
    "recession_clean_data().head()"
   ]
  },
  {
   "cell_type": "code",
   "execution_count": 23,
   "metadata": {
    "collapsed": false
   },
   "outputs": [
    {
     "data": {
      "text/plain": [
       "'2008q3'"
      ]
     },
     "execution_count": 23,
     "metadata": {},
     "output_type": "execute_result"
    }
   ],
   "source": [
    "def get_recession_start():\n",
    "    recession = recession_clean_data()\n",
    "    # recession difference so i used diff with shift(-1) and shift(-2) which shifts the row by one and two respectively.\n",
    "    abc=recession[(recession['GDP'] > recession['GDP'].shift(-1)) & (recession['GDP'].shift(-1) > recession['GDP'].shift(-2))]\n",
    "    \n",
    "    #return the start quater of recession\n",
    "    return  abc['Quater'].values[0]\n",
    "get_recession_start()"
   ]
  },
  {
   "cell_type": "code",
   "execution_count": 24,
   "metadata": {
    "collapsed": false
   },
   "outputs": [
    {
     "data": {
      "text/plain": [
       "'2009q4'"
      ]
     },
     "execution_count": 24,
     "metadata": {},
     "output_type": "execute_result"
    }
   ],
   "source": [
    "def get_recession_end():\n",
    "    x=pd.ExcelFile('Data/CSV/GDP/gdplev.xls')\n",
    "    recession=x.parse(skiprows=7)\n",
    "    recession=recession[['Unnamed: 4','Unnamed: 5']]\n",
    "    recession.rename(columns={'Unnamed: 4':'Quater','Unnamed: 5':'GDP'},inplace=True)\n",
    "    \n",
    "    #Cannot use recession_clean_data() method because want to find from the index where the recession starts\n",
    "    index_2000=recession[recession['Quater']== get_recession_start()].index\n",
    "\n",
    "    # droping the data before 2000q1 data\n",
    "    recession.drop(recession.index[:index_2000.item()],inplace=True)\n",
    "    #find the recession and ending with two consecutive quarters of GDP growth\n",
    "    abc=recession[(recession['GDP'] < recession['GDP'].shift(-1)) & (recession['GDP'].shift(-1) < recession['GDP'].shift(-2))]\n",
    "\n",
    "    return  abc['Quater'].values[2]   \n",
    "get_recession_end()"
   ]
  },
  {
   "cell_type": "code",
   "execution_count": 25,
   "metadata": {
    "collapsed": false
   },
   "outputs": [
    {
     "data": {
      "text/plain": [
       "'2009q2'"
      ]
     },
     "execution_count": 25,
     "metadata": {},
     "output_type": "execute_result"
    }
   ],
   "source": [
    "def get_recession_bottom():\n",
    "    x=pd.ExcelFile('Data/CSV/GDP/gdplev.xls')\n",
    "    recession=x.parse(skiprows=7)\n",
    "    recession=recession[['Unnamed: 4','Unnamed: 5']]\n",
    "    recession.rename(columns={'Unnamed: 4':'Quater','Unnamed: 5':'GDP'},inplace=True)\n",
    "    \n",
    "    index_2000=recession[recession['Quater']==get_recession_start()].index\n",
    "\n",
    "    # droping the data before 2000q1 data\n",
    "    recession.drop(recession.index[:index_2000[0]],inplace=True)\n",
    "\n",
    "    return recession[recession['GDP']==recession['GDP'].min()]['Quater'].item()\n",
    "get_recession_bottom()"
   ]
  },
  {
   "cell_type": "code",
   "execution_count": 26,
   "metadata": {
    "collapsed": false
   },
   "outputs": [
    {
     "data": {
      "text/html": [
       "<div>\n",
       "<table border=\"1\" class=\"dataframe\">\n",
       "  <thead>\n",
       "    <tr style=\"text-align: right;\">\n",
       "      <th></th>\n",
       "      <th></th>\n",
       "      <th>2000q1</th>\n",
       "      <th>2000q2</th>\n",
       "      <th>2000q3</th>\n",
       "      <th>2000q4</th>\n",
       "      <th>2001q1</th>\n",
       "      <th>2001q2</th>\n",
       "      <th>2001q3</th>\n",
       "      <th>2001q4</th>\n",
       "      <th>2002q1</th>\n",
       "      <th>2002q2</th>\n",
       "      <th>...</th>\n",
       "      <th>2014q2</th>\n",
       "      <th>2014q3</th>\n",
       "      <th>2014q4</th>\n",
       "      <th>2015q1</th>\n",
       "      <th>2015q2</th>\n",
       "      <th>2015q3</th>\n",
       "      <th>2015q4</th>\n",
       "      <th>2016q1</th>\n",
       "      <th>2016q2</th>\n",
       "      <th>2016q3</th>\n",
       "    </tr>\n",
       "    <tr>\n",
       "      <th>State</th>\n",
       "      <th>RegionName</th>\n",
       "      <th></th>\n",
       "      <th></th>\n",
       "      <th></th>\n",
       "      <th></th>\n",
       "      <th></th>\n",
       "      <th></th>\n",
       "      <th></th>\n",
       "      <th></th>\n",
       "      <th></th>\n",
       "      <th></th>\n",
       "      <th></th>\n",
       "      <th></th>\n",
       "      <th></th>\n",
       "      <th></th>\n",
       "      <th></th>\n",
       "      <th></th>\n",
       "      <th></th>\n",
       "      <th></th>\n",
       "      <th></th>\n",
       "      <th></th>\n",
       "      <th></th>\n",
       "    </tr>\n",
       "  </thead>\n",
       "  <tbody>\n",
       "    <tr>\n",
       "      <th>New York</th>\n",
       "      <th>New York</th>\n",
       "      <td>NaN</td>\n",
       "      <td>NaN</td>\n",
       "      <td>NaN</td>\n",
       "      <td>NaN</td>\n",
       "      <td>NaN</td>\n",
       "      <td>NaN</td>\n",
       "      <td>NaN</td>\n",
       "      <td>NaN</td>\n",
       "      <td>NaN</td>\n",
       "      <td>NaN</td>\n",
       "      <td>...</td>\n",
       "      <td>515466.666667</td>\n",
       "      <td>522800.000000</td>\n",
       "      <td>528066.666667</td>\n",
       "      <td>532266.666667</td>\n",
       "      <td>540800.000000</td>\n",
       "      <td>557200.000000</td>\n",
       "      <td>572833.333333</td>\n",
       "      <td>582866.666667</td>\n",
       "      <td>591633.333333</td>\n",
       "      <td>587200.0</td>\n",
       "    </tr>\n",
       "    <tr>\n",
       "      <th>California</th>\n",
       "      <th>Los Angeles</th>\n",
       "      <td>207066.666667</td>\n",
       "      <td>214466.666667</td>\n",
       "      <td>220966.666667</td>\n",
       "      <td>226166.666667</td>\n",
       "      <td>233000.000000</td>\n",
       "      <td>239100.000000</td>\n",
       "      <td>245066.666667</td>\n",
       "      <td>253033.333333</td>\n",
       "      <td>261966.666667</td>\n",
       "      <td>272700.000000</td>\n",
       "      <td>...</td>\n",
       "      <td>498033.333333</td>\n",
       "      <td>509066.666667</td>\n",
       "      <td>518866.666667</td>\n",
       "      <td>528800.000000</td>\n",
       "      <td>538166.666667</td>\n",
       "      <td>547266.666667</td>\n",
       "      <td>557733.333333</td>\n",
       "      <td>566033.333333</td>\n",
       "      <td>577466.666667</td>\n",
       "      <td>584050.0</td>\n",
       "    </tr>\n",
       "    <tr>\n",
       "      <th>Illinois</th>\n",
       "      <th>Chicago</th>\n",
       "      <td>138400.000000</td>\n",
       "      <td>143633.333333</td>\n",
       "      <td>147866.666667</td>\n",
       "      <td>152133.333333</td>\n",
       "      <td>156933.333333</td>\n",
       "      <td>161800.000000</td>\n",
       "      <td>166400.000000</td>\n",
       "      <td>170433.333333</td>\n",
       "      <td>175500.000000</td>\n",
       "      <td>177566.666667</td>\n",
       "      <td>...</td>\n",
       "      <td>192633.333333</td>\n",
       "      <td>195766.666667</td>\n",
       "      <td>201266.666667</td>\n",
       "      <td>201066.666667</td>\n",
       "      <td>206033.333333</td>\n",
       "      <td>208300.000000</td>\n",
       "      <td>207900.000000</td>\n",
       "      <td>206066.666667</td>\n",
       "      <td>208200.000000</td>\n",
       "      <td>212000.0</td>\n",
       "    </tr>\n",
       "    <tr>\n",
       "      <th>Pennsylvania</th>\n",
       "      <th>Philadelphia</th>\n",
       "      <td>53000.000000</td>\n",
       "      <td>53633.333333</td>\n",
       "      <td>54133.333333</td>\n",
       "      <td>54700.000000</td>\n",
       "      <td>55333.333333</td>\n",
       "      <td>55533.333333</td>\n",
       "      <td>56266.666667</td>\n",
       "      <td>57533.333333</td>\n",
       "      <td>59133.333333</td>\n",
       "      <td>60733.333333</td>\n",
       "      <td>...</td>\n",
       "      <td>113733.333333</td>\n",
       "      <td>115300.000000</td>\n",
       "      <td>115666.666667</td>\n",
       "      <td>116200.000000</td>\n",
       "      <td>117966.666667</td>\n",
       "      <td>121233.333333</td>\n",
       "      <td>122200.000000</td>\n",
       "      <td>123433.333333</td>\n",
       "      <td>126933.333333</td>\n",
       "      <td>128700.0</td>\n",
       "    </tr>\n",
       "    <tr>\n",
       "      <th>Arizona</th>\n",
       "      <th>Phoenix</th>\n",
       "      <td>111833.333333</td>\n",
       "      <td>114366.666667</td>\n",
       "      <td>116000.000000</td>\n",
       "      <td>117400.000000</td>\n",
       "      <td>119600.000000</td>\n",
       "      <td>121566.666667</td>\n",
       "      <td>122700.000000</td>\n",
       "      <td>124300.000000</td>\n",
       "      <td>126533.333333</td>\n",
       "      <td>128366.666667</td>\n",
       "      <td>...</td>\n",
       "      <td>164266.666667</td>\n",
       "      <td>165366.666667</td>\n",
       "      <td>168500.000000</td>\n",
       "      <td>171533.333333</td>\n",
       "      <td>174166.666667</td>\n",
       "      <td>179066.666667</td>\n",
       "      <td>183833.333333</td>\n",
       "      <td>187900.000000</td>\n",
       "      <td>191433.333333</td>\n",
       "      <td>195200.0</td>\n",
       "    </tr>\n",
       "  </tbody>\n",
       "</table>\n",
       "<p>5 rows × 67 columns</p>\n",
       "</div>"
      ],
      "text/plain": [
       "                                  2000q1         2000q2         2000q3  \\\n",
       "State        RegionName                                                  \n",
       "New York     New York                NaN            NaN            NaN   \n",
       "California   Los Angeles   207066.666667  214466.666667  220966.666667   \n",
       "Illinois     Chicago       138400.000000  143633.333333  147866.666667   \n",
       "Pennsylvania Philadelphia   53000.000000   53633.333333   54133.333333   \n",
       "Arizona      Phoenix       111833.333333  114366.666667  116000.000000   \n",
       "\n",
       "                                  2000q4         2001q1         2001q2  \\\n",
       "State        RegionName                                                  \n",
       "New York     New York                NaN            NaN            NaN   \n",
       "California   Los Angeles   226166.666667  233000.000000  239100.000000   \n",
       "Illinois     Chicago       152133.333333  156933.333333  161800.000000   \n",
       "Pennsylvania Philadelphia   54700.000000   55333.333333   55533.333333   \n",
       "Arizona      Phoenix       117400.000000  119600.000000  121566.666667   \n",
       "\n",
       "                                  2001q3         2001q4         2002q1  \\\n",
       "State        RegionName                                                  \n",
       "New York     New York                NaN            NaN            NaN   \n",
       "California   Los Angeles   245066.666667  253033.333333  261966.666667   \n",
       "Illinois     Chicago       166400.000000  170433.333333  175500.000000   \n",
       "Pennsylvania Philadelphia   56266.666667   57533.333333   59133.333333   \n",
       "Arizona      Phoenix       122700.000000  124300.000000  126533.333333   \n",
       "\n",
       "                                  2002q2    ...            2014q2  \\\n",
       "State        RegionName                     ...                     \n",
       "New York     New York                NaN    ...     515466.666667   \n",
       "California   Los Angeles   272700.000000    ...     498033.333333   \n",
       "Illinois     Chicago       177566.666667    ...     192633.333333   \n",
       "Pennsylvania Philadelphia   60733.333333    ...     113733.333333   \n",
       "Arizona      Phoenix       128366.666667    ...     164266.666667   \n",
       "\n",
       "                                  2014q3         2014q4         2015q1  \\\n",
       "State        RegionName                                                  \n",
       "New York     New York      522800.000000  528066.666667  532266.666667   \n",
       "California   Los Angeles   509066.666667  518866.666667  528800.000000   \n",
       "Illinois     Chicago       195766.666667  201266.666667  201066.666667   \n",
       "Pennsylvania Philadelphia  115300.000000  115666.666667  116200.000000   \n",
       "Arizona      Phoenix       165366.666667  168500.000000  171533.333333   \n",
       "\n",
       "                                  2015q2         2015q3         2015q4  \\\n",
       "State        RegionName                                                  \n",
       "New York     New York      540800.000000  557200.000000  572833.333333   \n",
       "California   Los Angeles   538166.666667  547266.666667  557733.333333   \n",
       "Illinois     Chicago       206033.333333  208300.000000  207900.000000   \n",
       "Pennsylvania Philadelphia  117966.666667  121233.333333  122200.000000   \n",
       "Arizona      Phoenix       174166.666667  179066.666667  183833.333333   \n",
       "\n",
       "                                  2016q1         2016q2    2016q3  \n",
       "State        RegionName                                            \n",
       "New York     New York      582866.666667  591633.333333  587200.0  \n",
       "California   Los Angeles   566033.333333  577466.666667  584050.0  \n",
       "Illinois     Chicago       206066.666667  208200.000000  212000.0  \n",
       "Pennsylvania Philadelphia  123433.333333  126933.333333  128700.0  \n",
       "Arizona      Phoenix       187900.000000  191433.333333  195200.0  \n",
       "\n",
       "[5 rows x 67 columns]"
      ]
     },
     "execution_count": 26,
     "metadata": {},
     "output_type": "execute_result"
    }
   ],
   "source": [
    "# convert_housing_data_to_quarters():\n",
    "\n",
    "import csv\n",
    "import pandas as pd\n",
    "\n",
    "\n",
    "home=pd.read_csv('Data/CSV/City_Zhvi_AllHomes.csv')\n",
    "\n",
    "#Drop the columns \n",
    "columns_to_drop = ['1996','1997','1998','1999']\n",
    "home = home[[col for col in home.columns if col[:4] not in columns_to_drop]]\n",
    "columnss=['RegionID','Metro','CountyName','SizeRank']\n",
    "home =home[[col for col in home.columns if col not in columnss]]\n",
    "#Range of year in the year list which want to convert in quater form\n",
    "year=[]\n",
    "for a in range(2000,2017):\n",
    "    year.append(str(a))\n",
    "# print(year)\n",
    "q1=['01','02','03']\n",
    "q2=['04','05','06']\n",
    "q3=['07','08','09']\n",
    "q4=['10','11','12']\n",
    "for a in year:\n",
    "    for col in home.columns:\n",
    "        #for each columns in we need only year so slicing it and compare with the year list\n",
    "        if col[:4] == a:\n",
    "\n",
    "            #As year is in 2000-01,2000-02 and so on so slicing the last two and compare with the list in quarter1\n",
    "            if col[-2:] in q1:\n",
    "                home[col[:4]+'q1'] = home[[col[:4]+'-01',col[:4]+'-02',col[:4]+'-03']].mean(axis=1)\n",
    "            if col[-2:] in q2:\n",
    "                home[col[:4]+'q2'] = home[[col[:4]+'-04',col[:4]+'-05',col[:4]+'-06']].mean(axis=1)\n",
    "\n",
    "            #Special Case in the given data 2016 has only data till 2016-08 so taking that in consideration\n",
    "            if col[-2:] in q3 and col[:4] =='2016':\n",
    "                home[col[:4]+'q3'] = home[[col[:4]+'-07',col[:4]+'-08']].mean(axis=1)\n",
    "                continue\n",
    "\n",
    "            if col[-2:] in q3:\n",
    "                home[col[:4]+'q3'] = home[[col[:4]+'-07',col[:4]+'-08',col[:4]+'-09']].mean(axis=1)\n",
    "\n",
    "            if col[-2:] in q4:\n",
    "                home[col[:4]+'q4'] = home[[col[:4]+'-10',col[:4]+'-11',col[:4]+'-12']].mean(axis=1)\n",
    "\n",
    "#appending '-' to every year and drop columns from the dataframe with 2000-,2001-,2002-,...,2016- which we already convert to 2000q1...2016q3\n",
    "year = [a+'-' for a in year ]\n",
    "\n",
    "home = home[[col for col in home.columns if col[:5] not in year]]\n",
    "#Replacing with states which is define in second block\n",
    "home['State']=home['State'].replace(states)\n",
    "\n",
    "#set the index of the state and regionName\n",
    "home.set_index(['State','RegionName'],drop=True,inplace=True)\n",
    "home.head()\n"
   ]
  },
  {
   "cell_type": "code",
   "execution_count": 27,
   "metadata": {
    "collapsed": false
   },
   "outputs": [],
   "source": [
    "rec_start=get_recession_start()\n",
    "rec_bottom=get_recession_bottom()\n",
    "\n",
    "#Housing data in quarters\n",
    "home=home\n",
    "\n",
    "#University town list\n",
    "university_town = get_list_of_university_towns()\n",
    "\n",
    "#Recession ratio=Rec_start/Rec_bottom\n",
    "prices_begin=home[rec_start]\n",
    "prices_end=home[rec_bottom]\n",
    "\n",
    "home['difference']=((prices_begin-prices_end)/prices_begin)*100\n",
    "\n",
    "\n",
    "#Set multi-index of dataframe to match multi-index of home dataframe\n",
    "university_town = university_town.set_index(['State', 'RegionName'])\n",
    "\n",
    "#Droping all na \n",
    "university_town=university_town.dropna()\n",
    "\n",
    "#In order to conduct t test we need to drop anything from table which is not a number\n",
    "ratio_college = home.loc[list(university_town.index)]['difference'].dropna()\n",
    "\n",
    "# Get non-university towns\n",
    "ratio_not_college_towns = set(home.index) - set(ratio_college.index)\n",
    "\n",
    "ratio_not_college =home.loc[list(ratio_not_college_towns),:]['difference'].dropna()\n",
    "# ratio_college[ratio_college<1].count()\n",
    "# ratio_college.count()    \n",
    "#     #We collect our statistic and p-value, then we evaluate whether university towns or non-university towns are better off during recessions\n",
    "#     statistic, p_value = tuple(stats.ttest_ind(ratio_college, ratio_not_college))\n",
    "\n",
    "#     outcome = statistic < 0\n",
    "\n",
    "#     different = p_value < 0.05\n",
    "\n",
    "#     better = [\"non-university town\", \"university town\"]\n",
    "    \n",
    "#     return (different, p_value, better[outcome])\n",
    "# run_ttest()\n",
    "\n",
    "\n"
   ]
  },
  {
   "cell_type": "code",
   "execution_count": 28,
   "metadata": {
    "collapsed": false
   },
   "outputs": [
    {
     "data": {
      "text/html": [
       "<div>\n",
       "<table border=\"1\" class=\"dataframe\">\n",
       "  <thead>\n",
       "    <tr style=\"text-align: right;\">\n",
       "      <th></th>\n",
       "      <th>Non University Town</th>\n",
       "      <th>States</th>\n",
       "      <th>University Town</th>\n",
       "    </tr>\n",
       "  </thead>\n",
       "  <tbody>\n",
       "    <tr>\n",
       "      <th>0</th>\n",
       "      <td>3.721850</td>\n",
       "      <td>Alabama</td>\n",
       "      <td>1.767053</td>\n",
       "    </tr>\n",
       "    <tr>\n",
       "      <th>1</th>\n",
       "      <td>3.472900</td>\n",
       "      <td>Alaska</td>\n",
       "      <td>9.654621</td>\n",
       "    </tr>\n",
       "    <tr>\n",
       "      <th>2</th>\n",
       "      <td>8.010183</td>\n",
       "      <td>Arizona</td>\n",
       "      <td>7.556486</td>\n",
       "    </tr>\n",
       "    <tr>\n",
       "      <th>3</th>\n",
       "      <td>0.556059</td>\n",
       "      <td>Arkansas</td>\n",
       "      <td>2.235482</td>\n",
       "    </tr>\n",
       "    <tr>\n",
       "      <th>4</th>\n",
       "      <td>11.581632</td>\n",
       "      <td>California</td>\n",
       "      <td>10.021172</td>\n",
       "    </tr>\n",
       "  </tbody>\n",
       "</table>\n",
       "</div>"
      ],
      "text/plain": [
       "   Non University Town      States  University Town\n",
       "0             3.721850     Alabama         1.767053\n",
       "1             3.472900      Alaska         9.654621\n",
       "2             8.010183     Arizona         7.556486\n",
       "3             0.556059    Arkansas         2.235482\n",
       "4            11.581632  California        10.021172"
      ]
     },
     "execution_count": 28,
     "metadata": {},
     "output_type": "execute_result"
    }
   ],
   "source": [
    "#Making new DataFrame of % with difference between recession start and end with respect to recession start.\n",
    "state,college_Per,Non_College_Per=[],[],[]\n",
    "for statess in ratio_not_college.index.levels[0]:\n",
    "    state.append(statess)\n",
    "    if statess in ratio_college.index.levels[0].tolist():\n",
    "        college_Per.append(ratio_college[statess].mean())\n",
    "    else:\n",
    "        college_Per.append(np.NaN)\n",
    "    Non_College_Per.append(ratio_not_college[statess].mean())\n",
    "dict_for_df = {'States':state,'University Town':college_Per,'Non University Town':Non_College_Per}\n",
    "df=pd.DataFrame(dict_for_df)\n",
    "df=df.dropna()\n",
    "df.head()\n",
    "# import us_state_abbrev"
   ]
  },
  {
   "cell_type": "code",
   "execution_count": 29,
   "metadata": {
    "collapsed": false
   },
   "outputs": [
    {
     "data": {
      "text/html": [
       "<div>\n",
       "<table border=\"1\" class=\"dataframe\">\n",
       "  <thead>\n",
       "    <tr style=\"text-align: right;\">\n",
       "      <th></th>\n",
       "      <th>Non University Town</th>\n",
       "      <th>University Town</th>\n",
       "    </tr>\n",
       "    <tr>\n",
       "      <th>States</th>\n",
       "      <th></th>\n",
       "      <th></th>\n",
       "    </tr>\n",
       "  </thead>\n",
       "  <tbody>\n",
       "    <tr>\n",
       "      <th>AL</th>\n",
       "      <td>3.721850</td>\n",
       "      <td>1.767053</td>\n",
       "    </tr>\n",
       "    <tr>\n",
       "      <th>AK</th>\n",
       "      <td>3.472900</td>\n",
       "      <td>9.654621</td>\n",
       "    </tr>\n",
       "    <tr>\n",
       "      <th>AZ</th>\n",
       "      <td>8.010183</td>\n",
       "      <td>7.556486</td>\n",
       "    </tr>\n",
       "    <tr>\n",
       "      <th>AR</th>\n",
       "      <td>0.556059</td>\n",
       "      <td>2.235482</td>\n",
       "    </tr>\n",
       "    <tr>\n",
       "      <th>CA</th>\n",
       "      <td>11.581632</td>\n",
       "      <td>10.021172</td>\n",
       "    </tr>\n",
       "  </tbody>\n",
       "</table>\n",
       "</div>"
      ],
      "text/plain": [
       "        Non University Town  University Town\n",
       "States                                      \n",
       "AL                 3.721850         1.767053\n",
       "AK                 3.472900         9.654621\n",
       "AZ                 8.010183         7.556486\n",
       "AR                 0.556059         2.235482\n",
       "CA                11.581632        10.021172"
      ]
     },
     "execution_count": 29,
     "metadata": {},
     "output_type": "execute_result"
    }
   ],
   "source": [
    "import seaborn as sns\n",
    "%matplotlib inline\n",
    "import matplotlib.pyplot as plt\n",
    "df['States']=df['States'].replace(us_state_abbrev)\n",
    "df.set_index('States',inplace=True)\n",
    "df.head()"
   ]
  },
  {
   "cell_type": "code",
   "execution_count": 15,
   "metadata": {
    "collapsed": false
   },
   "outputs": [
    {
     "data": {
      "image/png": "[encoded data removed]",
      "text/plain": [
       "<matplotlib.figure.Figure at 0x104a59048>"
      ]
     },
     "metadata": {},
     "output_type": "display_data"
    }
   ],
   "source": [
    "# sns.barplot(x='States',y=['College Per','Non_College_Per'],data=df)\n",
    "az=df[['University Town','Non University Town']].plot(kind='bar',figsize=(15, 10), legend=True, fontsize=12)\n",
    "az.set_title(\"% difference between median housoing price from recession start to end with respect to recession start\")\n",
    "az.set_xlabel(\"States\")\n",
    "az.set_ylabel(\"Percentage Increase or Decrease\")\n",
    "# pylab.savefig('Analysis1/Analysis1_University_NonUniversity.png')"
   ]
  },
  {
   "cell_type": "markdown",
   "metadata": {},
   "source": [
    "# So from the figure we can see in most of the states <font color='blue'>_University Town_</font> got less difference in % value  <font color='red'>_recession_</font> compare to <font color='blue'> _Non-University Town_</font>"
   ]
  },
  {
   "cell_type": "markdown",
   "metadata": {},
   "source": [
    "### So less value in % so less is decrease which is good in value so one can say that university town got less impact than non-university town"
   ]
  },
  {
   "cell_type": "code",
   "execution_count": null,
   "metadata": {
    "collapsed": true
   },
   "outputs": [],
   "source": []
  },
  {
   "cell_type": "code",
   "execution_count": null,
   "metadata": {
    "collapsed": true
   },
   "outputs": [],
   "source": []
  }
 ],
 "metadata": {
  "anaconda-cloud": {},
  "coursera": {
   "course_slug": "python-data-analysis",
   "graded_item_id": "Il9Fx",
   "launcher_item_id": "TeDW0",
   "part_id": "WGlun"
  },
  "kernelspec": {
   "display_name": "Python [default]",
   "language": "python",
   "name": "python3"
  },
  "language_info": {
   "codemirror_mode": {
    "name": "ipython",
    "version": 3
   },
   "file_extension": ".py",
   "mimetype": "text/x-python",
   "name": "python",
   "nbconvert_exporter": "python",
   "pygments_lexer": "ipython3",
   "version": "3.5.2"
  }
 },
 "nbformat": 4,
 "nbformat_minor": 0
}
