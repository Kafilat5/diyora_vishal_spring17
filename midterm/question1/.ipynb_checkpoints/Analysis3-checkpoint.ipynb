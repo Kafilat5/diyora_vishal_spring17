{
 "cells": [
  {
   "cell_type": "markdown",
   "metadata": {},
   "source": [
    "# Analysis 3 \n",
    "### Finding the connection of Andrew Fastow which name is not include in the mail folder and writing the results to csv file."
   ]
  },
  {
   "cell_type": "code",
   "execution_count": 2,
   "metadata": {
    "collapsed": true
   },
   "outputs": [],
   "source": [
    "import glob\n",
    "import csv\n",
    "from email.parser import Parser\n",
    "from datetime import datetime,date,timedelta\n",
    "from collections import OrderedDict\n",
    "import csv\n",
    "from collections import Counter\n",
    "import re\n"
   ]
  },
  {
   "cell_type": "code",
   "execution_count": 3,
   "metadata": {
    "collapsed": false
   },
   "outputs": [],
   "source": [
    "years=[]\n",
    "month=[]\n",
    "from_email=[]\n",
    "to_email=[]\n",
    "date_email=[]\n",
    "email_body=[]\n",
    "subject_email=[]\n",
    "m1=[]\n",
    "emails=[]\n",
    "search_word=['deal','stockes','gas','market value','price','commodities'] \n",
    "with open(\"analysis3.csv\", 'w') as csvfile:\n",
    "    out_write=csv.writer(csvfile)\n",
    "    out_write.writerow(['Subject','Receiver','Sender','Date'])\n",
    "#     fieldnames=['Subject','Receiver','Sender','Date']\n",
    "#     out_file = csv.DictWriter(csvfile,fieldnames=fieldnames)\n",
    "#     out_file.writeheader()\n",
    "    \n",
    "    for filename in glob.iglob('maildir/*/*/*.'):\n",
    "\n",
    "        with open(filename, 'r',encoding='utf-8', errors='ignore') as f:\n",
    "\n",
    "            data = f.read()\n",
    "            email = Parser().parsestr(data)\n",
    "            email_body=email.get_payload()\n",
    "            date_email=email['Date']\n",
    "            to_email=email['To']\n",
    "            from_email=email['From']\n",
    "            subject_email=email['Subject']\n",
    "            if to_email!=None:\n",
    "                if 'fastow' in to_email:\n",
    "#                     print(subject_email)\n",
    "                    out_write.writerow([subject_email,to_email,from_email,date_email])\n",
    "#                     out_file.writerow({'Subject':subject_email,'Receiver':to_email,'Sender':from_email,'Date':date_email})\n",
    "\n",
    "               \n",
    "    \n",
    "   \n",
    "\n",
    "\n"
   ]
  },
  {
   "cell_type": "code",
   "execution_count": null,
   "metadata": {
    "collapsed": true
   },
   "outputs": [],
   "source": []
  }
 ],
 "metadata": {
  "anaconda-cloud": {},
  "kernelspec": {
   "display_name": "Python [conda root]",
   "language": "python",
   "name": "conda-root-py"
  },
  "language_info": {
   "codemirror_mode": {
    "name": "ipython",
    "version": 3
   },
   "file_extension": ".py",
   "mimetype": "text/x-python",
   "name": "python",
   "nbconvert_exporter": "python",
   "pygments_lexer": "ipython3",
   "version": "3.5.2"
  }
 },
 "nbformat": 4,
 "nbformat_minor": 1
}
