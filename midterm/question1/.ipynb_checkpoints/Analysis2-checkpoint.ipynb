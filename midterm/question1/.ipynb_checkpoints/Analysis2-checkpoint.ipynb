{
 "cells": [
  {
   "cell_type": "markdown",
   "metadata": {},
   "source": [
    "# Analysis 2 \n",
    "###  Search the emerging words from the body of the email  like stocks, gas, deal, market value, price and commodities.\n",
    "### Getting the subject name email sender and receiver and save it to csv file."
   ]
  },
  {
   "cell_type": "code",
   "execution_count": null,
   "metadata": {
    "collapsed": true
   },
   "outputs": [],
   "source": [
    "import glob\n",
    "import csv\n",
    "from email.parser import Parser\n",
    "from datetime import datetime,date,timedelta\n",
    "from collections import OrderedDict\n",
    "from collections import Counter\n",
    "import re\n",
    "\n",
    "import plotly\n",
    "plotly.tools.set_credentials_file(username='vishal6557', api_key='sNc3vqMIVzo5DUhD84pI'"
   ]
  },
  {
   "cell_type": "code",
   "execution_count": 54,
   "metadata": {
    "collapsed": false
   },
   "outputs": [],
   "source": [
    "#Analysis 2 List of emil which is related to deal stockes gas market value price commodities getting email to from send date \n",
    "years=[]\n",
    "month=[]\n",
    "from_email=[]\n",
    "to_email=[]\n",
    "date_email=[]\n",
    "email_body=[]\n",
    "subject_email=[]\n",
    "m1=[]\n",
    "emails=[]\n",
    "search_word=['deal','stockes','gas','market value','price','commodities']  # Search Word from the body.\n",
    "for filename in glob.iglob('maildir/*/*sent/*.'):\n",
    "    \n",
    "    with open(filename, 'r',encoding='utf-8', errors='ignore') as f:\n",
    "        data = f.read()\n",
    "        email = Parser().parsestr(data)\n",
    "        email_body=email.get_payload()\n",
    "       \n",
    "        for z in search_word:\n",
    "            if z in email_body:\n",
    "                to_email.append(email['To']) #Getting reciever\n",
    "                from_email.append(email['From']) #Getting sender\n",
    "                date_email.append(email['date']) # Getting Date\n",
    "                subject_email.append(email['subject']) #Getting SUbject of the email\n",
    "\n",
    "               \n",
    "    \n",
    "   \n",
    "\n",
    "\n",
    "with open(\"analysis2.csv\", 'w') as csvfile:  #Saving to analysis2.csv\n",
    "    fieldnames=['Subject','Receiver','Sender','Date']\n",
    "    out_file = csv.DictWriter(csvfile,fieldnames=fieldnames)\n",
    "    out_file.writeheader()\n",
    "    for (a,b,c,d) in zip(subject_email,to_email,from_email,date_email):\n",
    "        out_file.writerow({'Subject':a,'Receiver':b,'Sender':c,'Date':d})\n",
    "\n",
    "            \n",
    "#         to_email_list.append(email['to'])\n",
    "#         from_email_list.append(email['from'])\n",
    "#         email_body.append(email.get_payload())\n",
    "#         year=email['date']\n",
    "#         month=email['date']\n",
    "#         m = year+' '+month\n",
    "#         m1.append(m)\n"
   ]
  },
  {
   "cell_type": "code",
   "execution_count": null,
   "metadata": {
    "collapsed": false
   },
   "outputs": [],
   "source": []
  },
  {
   "cell_type": "code",
   "execution_count": null,
   "metadata": {
    "collapsed": false
   },
   "outputs": [],
   "source": []
  },
  {
   "cell_type": "code",
   "execution_count": null,
   "metadata": {
    "collapsed": true
   },
   "outputs": [],
   "source": []
  },
  {
   "cell_type": "code",
   "execution_count": null,
   "metadata": {
    "collapsed": true
   },
   "outputs": [],
   "source": []
  }
 ],
 "metadata": {
  "anaconda-cloud": {},
  "kernelspec": {
   "display_name": "Python [conda root]",
   "language": "python",
   "name": "conda-root-py"
  },
  "language_info": {
   "codemirror_mode": {
    "name": "ipython",
    "version": 3
   },
   "file_extension": ".py",
   "mimetype": "text/x-python",
   "name": "python",
   "nbconvert_exporter": "python",
   "pygments_lexer": "ipython3",
   "version": "3.5.2"
  }
 },
 "nbformat": 4,
 "nbformat_minor": 1
}
