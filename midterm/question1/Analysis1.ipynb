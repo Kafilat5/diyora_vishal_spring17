{
 "cells": [
  {
   "cell_type": "markdown",
   "metadata": {},
   "source": [
    "# Mid Term Part 1 Enron Data\n",
    "### Analysis 1\n",
    "In this analysis I have read all the files of maildir and saving the highest number of emails as per year and month "
   ]
  },
  {
   "cell_type": "code",
   "execution_count": 52,
   "metadata": {
    "collapsed": true
   },
   "outputs": [],
   "source": [
    "import glob\n",
    "import csv\n",
    "from email.parser import Parser\n",
    "from collections import OrderedDict\n",
    "import plotly.plotly as py\n",
    "import plotly.graph_objs as go #importing plotly as graph"
   ]
  },
  {
   "cell_type": "code",
   "execution_count": 22,
   "metadata": {
    "collapsed": false
   },
   "outputs": [],
   "source": [
    "years=[]\n",
    "month=[]\n",
    "from_email_list=[]\n",
    "to_email_list=[]\n",
    "email_body=[]\n",
    "m1=[]\n",
    "for filename in glob.iglob('maildir/*/*/*.'):\n",
    "    with open(filename, 'r',encoding='utf-8', errors='ignore') as f:\n",
    "        data = f.read()\n",
    "        email = Parser().parsestr(data)\n",
    "#         to_email_list.append(email['to'])\n",
    "#         from_email_list.append(email['from'])\n",
    "#         email_body.append(email.get_payload())\n",
    "        year=email['date'].split()[3]#getting year\n",
    "        month=email['date'].split()[2] #getting month\n",
    "        m = year+' '+month\n",
    "        m1.append(m)"
   ]
  },
  {
   "cell_type": "code",
   "execution_count": 48,
   "metadata": {
    "collapsed": false
   },
   "outputs": [
    {
     "name": "stdout",
     "output_type": "stream",
     "text": [
      "Email as per month and year in sorted order:\n",
      "OrderedDict([('2001 Oct', 35714), ('2001 Apr', 34256), ('2001 May', 34049), ('2000 Nov', 31486), ('2000 Dec', 30127), ('2001 Nov', 27264), ('2001 Mar', 26918), ('2000 Oct', 23921), ('2001 Jan', 22819), ('2001 Feb', 21856), ('2002 Jan', 19962), ('2000 Sep', 19200), ('2000 Aug', 17884), ('2001 Jun', 17388), ('2000 Jun', 13258), ('2000 Jul', 13002), ('2001 Dec', 10874), ('2000 May', 9904), ('2001 Sep', 9789), ('2001 Jul', 8899), ('2000 Mar', 8401), ('2000 Apr', 8308), ('2001 Aug', 7776), ('2000 Feb', 6857), ('2002 Feb', 6825), ('2000 Jan', 6139), ('1999 Dec', 3357), ('2002 Mar', 3156), ('1999 Oct', 1346), ('1999 Sep', 1198), ('1999 Nov', 1167), ('1999 Aug', 1049), ('2002 Apr', 1015), ('1999 Jul', 853), ('2002 Jun', 838), ('2002 May', 810), ('1999 May', 659), ('1999 Jun', 644), ('1979 Dec', 470), ('2002 Jul', 244), ('1999 Jan', 130), ('1998 Dec', 107), ('1999 Mar', 106), ('1999 Apr', 97), ('1999 Feb', 91), ('2004 Feb', 69), ('0001 Dec', 65), ('0001 Oct', 62), ('0001 Nov', 59), ('1998 Nov', 56), ('1997 Aug', 38), ('1997 Sep', 36), ('1997 Jun', 32), ('1997 Jul', 28), ('0002 Jan', 27), ('1997 Mar', 20), ('1997 Apr', 18), ('1997 May', 16), ('1997 Nov', 16), ('1997 Oct', 14), ('0001 Aug', 13), ('0002 Feb', 10), ('0001 Sep', 9), ('0002 Mar', 8), ('1998 Oct', 8), ('2002 Sep', 6), ('1998 Jan', 4), ('2012 Nov', 2), ('2020 Dec', 2), ('0001 Jun', 2), ('0001 May', 2), ('2002 Oct', 1), ('1986 May', 1), ('2005 Dec', 1), ('1986 Apr', 1), ('2002 Dec', 1), ('2007 Feb', 1), ('1998 Sep', 1), ('0001 Jul', 1), ('2024 May', 1), ('1998 May', 1), ('1997 Jan', 1)])\n"
     ]
    }
   ],
   "source": [
    "count_total=Counter(m1) #Counting frequency\n",
    "count_total=OrderedDict(sorted(count_total.items(), key=lambda pair: pair[1], reverse=True)) #Sorting keys as per values\n",
    "print(\"Email as per month and year in sorted order:\")\n",
    "print(count_total)"
   ]
  },
  {
   "cell_type": "code",
   "execution_count": 49,
   "metadata": {
    "collapsed": true
   },
   "outputs": [],
   "source": [
    "def sorting_frequency():\n",
    "    return sorted(count_total.items(), key=lambda pair: pair[1], reverse=True)\n",
    "x=sorting_frequency() # Sorting as per the frequecny\n",
    "word,frequency=zip(*x)   "
   ]
  },
  {
   "cell_type": "code",
   "execution_count": 54,
   "metadata": {
    "collapsed": false
   },
   "outputs": [],
   "source": [
    "ranks=[]\n",
    "rank=1\n",
    "\n",
    "#Giving rank to the words frequecny\n",
    "for li in range(len(frequency)):\n",
    "    ranks.append(rank)\n",
    "    rank+=1;\n",
    "    \n",
    "\n",
    "#Writing word_rank_frequecny to csv file      \n",
    "with open('Analysis1.csv', 'w') as csvfile:\n",
    "    fieldnames = ['Word','Frequency','Rank']\n",
    "    writer = csv.DictWriter(csvfile, fieldnames=fieldnames)\n",
    "    writer.writeheader()\n",
    "    for (a,z,r) in zip(word,frequency,ranks):\n",
    "            writer.writerow({'Word':a,'Frequency': z,'Rank': r})"
   ]
  },
  {
   "cell_type": "code",
   "execution_count": 41,
   "metadata": {
    "collapsed": false
   },
   "outputs": [
    {
     "data": {
      "text/html": [
       "<iframe id=\"igraph\" scrolling=\"no\" style=\"border:none;\" seamless=\"seamless\" src=\"https://plot.ly/~vishal6557/56.embed\" height=\"525px\" width=\"100%\"></iframe>"
      ],
      "text/plain": [
       "<plotly.tools.PlotlyDisplay object>"
      ]
     },
     "execution_count": 41,
     "metadata": {},
     "output_type": "execute_result"
    }
   ],
   "source": [
    "\n",
    "data = [go.Bar(\n",
    "            x=list(count_total.keys())[:20],\n",
    "            y=list(count_total.values())[:20]\n",
    "    )]\n",
    "\n",
    "py.iplot(data, filename='basic-bar')\n"
   ]
  },
  {
   "cell_type": "code",
   "execution_count": null,
   "metadata": {
    "collapsed": false
   },
   "outputs": [],
   "source": []
  },
  {
   "cell_type": "code",
   "execution_count": null,
   "metadata": {
    "collapsed": true
   },
   "outputs": [],
   "source": []
  }
 ],
 "metadata": {
  "kernelspec": {
   "display_name": "Python [conda root]",
   "language": "python",
   "name": "conda-root-py"
  },
  "language_info": {
   "codemirror_mode": {
    "name": "ipython",
    "version": 3
   },
   "file_extension": ".py",
   "mimetype": "text/x-python",
   "name": "python",
   "nbconvert_exporter": "python",
   "pygments_lexer": "ipython3",
   "version": "3.5.2"
  }
 },
 "nbformat": 4,
 "nbformat_minor": 1
}
