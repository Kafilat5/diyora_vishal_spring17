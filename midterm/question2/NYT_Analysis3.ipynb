{
 "cells": [
  {
   "cell_type": "markdown",
   "metadata": {},
   "source": [
    "# USING NYT SEARCH API \n",
    "1.Search a keyword as Obama and got 120 results save as json file\n",
    "\n",
    "2.Search a keyword as Trump and got 120 results save as json file.\n",
    "\n",
    "3.Analysis which article was trending and was on the first page for both the presidents Trump and Obama.\n",
    "\n",
    "4.Saving the article to CSV file as the Obamatrending and Trumptrending."
   ]
  },
  {
   "cell_type": "code",
   "execution_count": null,
   "metadata": {
    "collapsed": true
   },
   "outputs": [],
   "source": [
    "import json\n",
    "import glob\n",
    "import csv\n",
    "from collections import Counter\n",
    "import plotly\n",
    "plotly.tools.set_credentials_file(username='vishal6557', api_key='sNc3vqMIVzo5DUhD84pI')\n",
    "import plotly.plotly as py\n",
    "import plotly.graph_objs as go\n",
    "from collections import OrderedDict"
   ]
  },
  {
   "cell_type": "code",
   "execution_count": 64,
   "metadata": {
    "collapsed": false
   },
   "outputs": [],
   "source": [
    "import csv\n",
    "snippet=[]\n",
    "sub_section1=[]\n",
    "section=[]\n",
    "pages=[]\n",
    "section_all1=[]\n",
    "with open(\"Obamatrending.csv\", 'w') as csvfile:\n",
    "    #saving the \n",
    "#                 fieldnames=['Publish_Dates','Mains','New_Desks','Section_Names']\n",
    "#                 out_file = csv.DictWriter(csvfile,fieldnames=fieldnames)\n",
    "#                 out_file.writeheader()\n",
    "    out_write=csv.writer(csvfile)\n",
    "    out_write.writerow(['Publish_Dates','Mains','New_Desks','Section_Names'])\n",
    "    for filename in glob.iglob('ALL_JSONObama.*.json'): #iterating through each file of 2016 archive file 22 files(16.2 MB each)\n",
    "        with open(filename) as data_file:      #iterating through each file\n",
    "            data = json.load(data_file)   \n",
    "            if len(data[\"response\"][\"docs\"]) >= 1:  \n",
    "            # open the CSV for appending\n",
    "           \n",
    "                for article in data['response']['docs']:\n",
    "                    \n",
    "                    pub_dates=str(article[\"pub_date\"]) \n",
    "                    mains=str(article[\"headline\"][\"main\"]) if \"main\" in article[\"headline\"].keys() else \"\" \n",
    "                    new_desks= str(article[\"news_desk\"]) if \"news_desk\" in article.keys() else \"\"\n",
    "                    section_names=str(article[\"section_name\"]) if \"section_name\" in article.keys() else \"\"\n",
    "                    section_all1.append(section_names)\n",
    "                    page=article['print_page']\n",
    "                    if page == '1':\n",
    "                        out_write.writerow([pub_dates,mains,new_desks,section_names])"
   ]
  },
  {
   "cell_type": "code",
   "execution_count": null,
   "metadata": {
    "collapsed": false
   },
   "outputs": [],
   "source": []
  },
  {
   "cell_type": "code",
   "execution_count": 65,
   "metadata": {
    "collapsed": false
   },
   "outputs": [],
   "source": [
    "import csv\n",
    "snippet=[]\n",
    "sub_section1=[]\n",
    "section=[]\n",
    "pages=[]\n",
    "section_all=[]\n",
    "with open(\"TrumpTrending.csv\", 'w') as csvfile: #saving the \n",
    "#     fieldnames=['Publish_Dates','Mains','New_Desks','Section_Names','Page']\n",
    "#     out_file = csv.DictWriter(csvfile,fieldnames=fieldnames)\n",
    "#     out_file.writeheader()\n",
    "    out_write=csv.writer(csvfile)\n",
    "    out_write.writerow(['Publish_Dates','Mains','New_Desks','Section_Names'])\n",
    "    for filename in glob.iglob('ALL_JSONTrump.*.json'): #iterating through each file of 2016 archive file 22 files(16.2 MB each)\n",
    "        with open(filename) as data_file:      #iterating through each file\n",
    "            data = json.load(data_file)   \n",
    "            if len(data[\"response\"][\"docs\"]) >= 1:  \n",
    "            \n",
    "               for article in data['response']['docs']:\n",
    "                    \n",
    "                    pub_dates=str(article[\"pub_date\"]) \n",
    "                    mains=str(article[\"headline\"][\"main\"]) if \"main\" in article[\"headline\"].keys() else \"\" \n",
    "                    new_desks= str(article[\"news_desk\"]) if \"news_desk\" in article.keys() else \"\"\n",
    "                    section_names=str(article[\"section_name\"]) if \"section_name\" in article.keys() else \"\"\n",
    "                    section_all.append(section_names)\n",
    "                    page=article['print_page']\n",
    "                    if page == '1':\n",
    "                        out_write.writerow([pub_dates,mains,new_desks,section_names])"
   ]
  },
  {
   "cell_type": "code",
   "execution_count": 66,
   "metadata": {
    "collapsed": true
   },
   "outputs": [],
   "source": [
    "trump_section=Counter(section_all)\n",
    "trump_section=OrderedDict(sorted(trump_section.items(), key=lambda pair: pair[1], reverse=True))"
   ]
  },
  {
   "cell_type": "code",
   "execution_count": 67,
   "metadata": {
    "collapsed": false
   },
   "outputs": [],
   "source": [
    "obama_section=Counter(section_all1)\n",
    "obama_section=OrderedDict(sorted(obama_section.items(), key=lambda pair: pair[1], reverse=True))"
   ]
  },
  {
   "cell_type": "code",
   "execution_count": 69,
   "metadata": {
    "collapsed": false
   },
   "outputs": [
    {
     "data": {
      "text/html": [
       "<iframe id=\"igraph\" scrolling=\"no\" style=\"border:none;\" seamless=\"seamless\" src=\"https://plot.ly/~vishal6557/60.embed\" height=\"525px\" width=\"100%\"></iframe>"
      ],
      "text/plain": [
       "<plotly.tools.PlotlyDisplay object>"
      ]
     },
     "execution_count": 69,
     "metadata": {},
     "output_type": "execute_result"
    }
   ],
   "source": [
    "fig = {\n",
    "  \"data\": [\n",
    "    {\n",
    "      \"values\": list(obama_section.values())[:10],\n",
    "      \"labels\": list(obama_section.keys())[:10],\n",
    "      \"domain\": {\"x\": [0, .50]},\n",
    "      \"name\": \"2016 Business Subsection\",\n",
    "      \"hoverinfo\":\"label+percent+name\",\n",
    "      \"hole\": .4,\n",
    "      \"type\": \"pie\"\n",
    "    },     \n",
    "    {\n",
    "      \"values\": list(trump_section.values())[:10],\n",
    "      \"labels\": list(trump_section.keys())[:10],\n",
    "      \"text\":\"Obama_Section\",\n",
    "      \"textposition\":\"inside\",\n",
    "      \"domain\": {\"x\": [.50, 1]},\n",
    "      \"name\": \"\",\n",
    "      \"hoverinfo\":\"label+percent+name\",\n",
    "      \"hole\": .4,\n",
    "      \"type\": \"pie\"\n",
    "    }],\n",
    "  \"layout\": {\n",
    "        \"title\":\"Compare Section of articles of Obama and Trump\",\n",
    "        \"annotations\": [\n",
    "            {\n",
    "                \"font\": {\n",
    "                    \"size\": 20\n",
    "                },\n",
    "                \"showarrow\": False,\n",
    "                \"text\": \"Obama\",\n",
    "                \"x\": 0.20,\n",
    "                \"y\": 0.5\n",
    "            },\n",
    "            {\n",
    "                \"font\": {\n",
    "                    \"size\": 20\n",
    "                },\n",
    "                \"showarrow\": False,\n",
    "                \"text\": \"Trump\",\n",
    "                \"x\": 0.8,\n",
    "                \"y\": 0.5\n",
    "            }\n",
    "        ]\n",
    "    }\n",
    "}\n",
    "py.iplot(fig)"
   ]
  },
  {
   "cell_type": "code",
   "execution_count": null,
   "metadata": {
    "collapsed": true
   },
   "outputs": [],
   "source": []
  }
 ],
 "metadata": {
  "kernelspec": {
   "display_name": "Python [conda root]",
   "language": "python",
   "name": "conda-root-py"
  },
  "language_info": {
   "codemirror_mode": {
    "name": "ipython",
    "version": 3
   },
   "file_extension": ".py",
   "mimetype": "text/x-python",
   "name": "python",
   "nbconvert_exporter": "python",
   "pygments_lexer": "ipython3",
   "version": "3.5.2"
  }
 },
 "nbformat": 4,
 "nbformat_minor": 1
}
