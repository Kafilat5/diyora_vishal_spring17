{
 "cells": [
  {
   "cell_type": "markdown",
   "metadata": {},
   "source": [
    "# Change Api-key from here "
   ]
  },
  {
   "cell_type": "code",
   "execution_count": 2,
   "metadata": {
    "collapsed": true
   },
   "outputs": [],
   "source": [
    "import json\n",
    "import logging\n",
    "import urllib.request\n",
    "import time\n",
    "from urllib.error import HTTPError\n",
    "from urllib.request import urlopen\n",
    "import os"
   ]
  },
  {
   "cell_type": "code",
   "execution_count": 4,
   "metadata": {
    "collapsed": false
   },
   "outputs": [],
   "source": [
    "\n",
    "headers = { 'User-Agent' :'Mozilla/5.0 (Windows NT 6.1; Win64; x64)' }  #Seating header i was getting errors sometimes so it used it.\n",
    "\n",
    "#Defining the file name \n",
    "def getJsonFileName(name, page, json_file_path):\n",
    "    json_file_name = \".\".join([str(name),str(page),'json'])\n",
    "    json_file_name = \"\".join([json_file_path,json_file_name])\n",
    "    return json_file_name\n",
    "\n",
    "def getapiasperlink(apistring,pages,apikey,filename,searchquery=\" \"):\n",
    "    for page in range(pages):\n",
    "        try:\n",
    "        #             request_string = \"http://api.nytimes.com/svc/search/v2/articlesearch.json?begin_date=\" + date + \"&end_date=\" + date + \"&page=\" + str(page) + \"&api-key=\" + api_key\n",
    "        #             response = urllib2.urlopen(request_string)\n",
    "        #             content = response.read()\n",
    "    #         request_string = \"http://api.nytimes.com/svc/search/v2/articlesearch.json?q=\"+ \"&page=\" + str(page) + \"&api-key=\n",
    "#             request_string=\"https://api.nytimes.com/svc/archive/v1/2017/1.json?\"+\"&page=\"+str(page) + \"&api-key=\n",
    "            if searchquery!=\" \":\n",
    "                request_string=apistring+\"?\"+ \"q=\"+searchquery +\"&page=\"+str(page) + \"&api-key=\"+apikey\n",
    "            else:\n",
    "                request_string=apistring+\"?\"+\"&page=\"+str(page) + \"&api-key=\"+apikey\n",
    "            request1=urllib.request.Request(request_string,headers = headers)\n",
    "            response = urlopen(request1)\n",
    "            content = response.read().decode('utf8')  \n",
    "            if content:\n",
    "                articles = json.loads(content)\n",
    "                        # if there are articles here\n",
    "                if len(articles[\"response\"][\"docs\"]) >= 1:\n",
    "                    json_file_name = getJsonFileName(filename, str(page),\"ALL_JSON\") #Saving file with ALL_JSON name with 2017archive.pageno.json\n",
    "                    json_file = open(json_file_name, 'w')\n",
    "                    json_file.write(content)\n",
    "                    json_file.close()\n",
    "            time.sleep(3)\n",
    "        except HTTPError as e:\n",
    "            logging.error(\"HTTPError on page %s on (err no. %s: %s) Here's the URL of the call: %s\", page, e.code, e.reason, request_string)"
   ]
  },
  {
   "cell_type": "markdown",
   "metadata": {},
   "source": [
    "#### Getting archive json file and storing as per name "
   ]
  },
  {
   "cell_type": "code",
   "execution_count": null,
   "metadata": {
    "collapsed": true
   },
   "outputs": [],
   "source": [
    "getapiasperlink(\"https://api.nytimes.com/svc/archive/v1/2016/1.json\",23,os.getenv(\"auth_key\"),\"2016archive\") \n",
    "#searching the json file and saving it as of 2016Archive file \n",
    "#I have already run it so not running it again"
   ]
  },
  {
   "cell_type": "code",
   "execution_count": null,
   "metadata": {
    "collapsed": false
   },
   "outputs": [],
   "source": [
    "getapiasperlink(\"https://api.nytimes.com/svc/archive/v1/2017/2.json\",23,os.getenv(\"auth_key\"),\"2017Archive\")"
   ]
  },
  {
   "cell_type": "markdown",
   "metadata": {},
   "source": [
    "### Getting search json file as per the query\n",
    "Using key as 120 in search because it only giving max 120 page response.\n",
    "\n",
    "I have already run this so I am not running it "
   ]
  },
  {
   "cell_type": "code",
   "execution_count": null,
   "metadata": {
    "collapsed": true
   },
   "outputs": [],
   "source": [
    "getapiasperlink(\"http://api.nytimes.com/svc/search/v2/articlesearch.json\",120,os.getenv(\"auth_key\"),\"Trump\",\"Trump\")"
   ]
  },
  {
   "cell_type": "code",
   "execution_count": null,
   "metadata": {
    "collapsed": true
   },
   "outputs": [],
   "source": [
    "getapiasperlink(\"http://api.nytimes.com/svc/search/v2/articlesearch.json\",120,os.getenv(\"auth_key\"),\"Obama\",\"Obama\")\n"
   ]
  },
  {
   "cell_type": "code",
   "execution_count": null,
   "metadata": {
    "collapsed": true
   },
   "outputs": [],
   "source": [
    "getapiasperlink(\"http://api.nytimes.com/svc/search/v2/articlesearch.json\",120,os.getenv(\"auth_key\"),\"Travelban\",\"Travel%20ban\")"
   ]
  },
  {
   "cell_type": "code",
   "execution_count": null,
   "metadata": {
    "collapsed": true
   },
   "outputs": [],
   "source": [
    "getapiasperlink(\"http://api.nytimes.com/svc/search/v2/articlesearch.json\",120,os.getenv(\"auth_key\"),\"enron\",\"enron\") \n"
   ]
  },
  {
   "cell_type": "code",
   "execution_count": null,
   "metadata": {
    "collapsed": false
   },
   "outputs": [],
   "source": []
  },
  {
   "cell_type": "code",
   "execution_count": null,
   "metadata": {
    "collapsed": true
   },
   "outputs": [],
   "source": []
  }
 ],
 "metadata": {
  "anaconda-cloud": {},
  "kernelspec": {
   "display_name": "Python [conda root]",
   "language": "python",
   "name": "conda-root-py"
  },
  "language_info": {
   "codemirror_mode": {
    "name": "ipython",
    "version": 3
   },
   "file_extension": ".py",
   "mimetype": "text/x-python",
   "name": "python",
   "nbconvert_exporter": "python",
   "pygments_lexer": "ipython3",
   "version": "3.5.2"
  }
 },
 "nbformat": 4,
 "nbformat_minor": 1
}
