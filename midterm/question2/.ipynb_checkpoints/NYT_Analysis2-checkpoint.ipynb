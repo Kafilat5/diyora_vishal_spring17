{
 "cells": [
  {
   "cell_type": "markdown",
   "metadata": {},
   "source": [
    "# Using NYT Search api ENRON keyword search.\n",
    "1.Save 120 json file to local of search keyword enron.\n",
    "\n",
    "2.Analysis done when enron was trending news on first page of the article.\n",
    "\n",
    "3.Save result in csv as enrontrending.\n",
    "\n",
    "4.Showed a bar chart when of the trending news as per month and year"
   ]
  },
  {
   "cell_type": "code",
   "execution_count": null,
   "metadata": {
    "collapsed": true
   },
   "outputs": [],
   "source": [
    "import json\n",
    "import glob\n",
    "import csv\n",
    "from collections import Counter\n",
    "import plotly\n",
    "plotly.tools.set_credentials_file(username='vishal6557', api_key='sNc3vqMIVzo5DUhD84pI')\n",
    "import plotly.plotly as py\n",
    "import plotly.graph_objs as go\n",
    "from collections import OrderedDict"
   ]
  },
  {
   "cell_type": "code",
   "execution_count": 8,
   "metadata": {
    "collapsed": true
   },
   "outputs": [],
   "source": [
    "import csv\n",
    "snippet=[]\n",
    "sub_section1=[]\n",
    "section=[]\n",
    "pages=[]\n",
    "section_all1=[]\n",
    "pubdates=[]\n",
    "with open(\"enrontrending.csv\", 'w') as csvfile:\n",
    "    #saving the \n",
    "#                 fieldnames=['Publish_Dates','Mains','New_Desks','Section_Names']\n",
    "#                 out_file = csv.DictWriter(csvfile,fieldnames=fieldnames)\n",
    "#                 out_file.writeheader()\n",
    "    out_write=csv.writer(csvfile)\n",
    "    out_write.writerow(['Publish_Dates','Mains','New_Desks','Section_Names'])\n",
    "    for filename in glob.iglob('Data/ALL_JSONenron.*.json'): #iterating through each file of 2016 archive file 22 files(16.2 MB each)\n",
    "        with open(filename) as data_file:      #iterating through each file\n",
    "            data = json.load(data_file)   \n",
    "            if len(data[\"response\"][\"docs\"]) >= 1:  \n",
    "            # open the CSV for appending\n",
    "           \n",
    "                for article in data['response']['docs']:\n",
    "                    \n",
    "                    pub_dates=str(article[\"pub_date\"])[:10] \n",
    "                    pubdates.append(pub_dates)\n",
    "                    mains=str(article[\"headline\"][\"main\"]) if \"main\" in article[\"headline\"].keys() else \"\" \n",
    "                    new_desks= str(article[\"news_desk\"]) if \"news_desk\" in article.keys() else \"\"\n",
    "                    section_names=str(article[\"section_name\"]) if \"section_name\" in article.keys() else \"\"\n",
    "                    section_all1.append(section_names)\n",
    "                    page=article['print_page']\n",
    "                    if page == '1':\n",
    "                        out_write.writerow([pub_dates,mains,new_desks,section_names])"
   ]
  },
  {
   "cell_type": "code",
   "execution_count": 15,
   "metadata": {
    "collapsed": false
   },
   "outputs": [],
   "source": [
    "\n",
    "enron_data=Counter([x[:7] for  x in pubdates]) # Getting the month and year and use counter for frequency.\n",
    "enron_data=OrderedDict(sorted(enron_data.items(), key=lambda pair: pair[1], reverse=True)) #Sorting as per the value."
   ]
  },
  {
   "cell_type": "code",
   "execution_count": 20,
   "metadata": {
    "collapsed": false
   },
   "outputs": [
    {
     "data": {
      "text/html": [
       "<iframe id=\"igraph\" scrolling=\"no\" style=\"border:none;\" seamless=\"seamless\" src=\"https://plot.ly/~vishal6557/56.embed\" height=\"525px\" width=\"100%\"></iframe>"
      ],
      "text/plain": [
       "<plotly.tools.PlotlyDisplay object>"
      ]
     },
     "execution_count": 20,
     "metadata": {},
     "output_type": "execute_result"
    }
   ],
   "source": [
    "data = [go.Bar(\n",
    "            x=list(enron_data.keys())[:15],\n",
    "            y=list(enron_data.values())[:15]\n",
    "    )]\n",
    "\n",
    "py.iplot(data, filename='basic-bar')"
   ]
  },
  {
   "cell_type": "code",
   "execution_count": null,
   "metadata": {
    "collapsed": true
   },
   "outputs": [],
   "source": []
  }
 ],
 "metadata": {
  "anaconda-cloud": {},
  "kernelspec": {
   "display_name": "Python [conda root]",
   "language": "python",
   "name": "conda-root-py"
  },
  "language_info": {
   "codemirror_mode": {
    "name": "ipython",
    "version": 3
   },
   "file_extension": ".py",
   "mimetype": "text/x-python",
   "name": "python",
   "nbconvert_exporter": "python",
   "pygments_lexer": "ipython3",
   "version": "3.5.2"
  }
 },
 "nbformat": 4,
 "nbformat_minor": 1
}
